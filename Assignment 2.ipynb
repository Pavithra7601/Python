{
 "cells": [
  {
   "cell_type": "markdown",
   "id": "d7c771d3-623b-4aae-a138-761fcf8adc70",
   "metadata": {},
   "source": [
    "## 1.Given an array of strings, group anagrams together.\n",
    "### (An anagram is a word or phrase formed by rearranging the letters of a different word or hrase, typically using all the original letters exactly once)"
   ]
  },
  {
   "cell_type": "code",
   "execution_count": 1,
   "id": "276e2c3e-3c4b-4322-810e-b138cd30adbf",
   "metadata": {},
   "outputs": [
    {
     "name": "stdout",
     "output_type": "stream",
     "text": [
      "[['eat', 'tea', 'ate'], ['tan', 'nat'], ['bat']]\n"
     ]
    }
   ],
   "source": [
    "def group_anagrams(words):\n",
    "    anagrams = {}\n",
    "    for i in words:\n",
    "        sorted_word = ''.join(sorted(i))\n",
    "        if sorted_word in anagrams:\n",
    "            anagrams[sorted_word].append(i)\n",
    "        else:\n",
    "            anagrams[sorted_word] = [i]\n",
    "    return list(anagrams.values())\n",
    "    \n",
    "words = ['eat','tea','tan','ate','nat','bat']\n",
    "print(group_anagrams(words))"
   ]
  },
  {
   "cell_type": "markdown",
   "id": "607c2a8b-95b7-40e6-a1c1-67a5cf429beb",
   "metadata": {},
   "source": [
    "## 2.Write an algorithm to traverse a Binary Tree in 3 different ways.\n",
    "### i)In-order Traversing  ii)Pre-order Traversing  iii)post-order traversing"
   ]
  },
  {
   "cell_type": "code",
   "execution_count": 2,
   "id": "215f8a50-981d-45f9-ba33-e5fc6eee8a89",
   "metadata": {},
   "outputs": [
    {
     "name": "stdout",
     "output_type": "stream",
     "text": [
      "In-order Traversal: 7 15 18 20 26 30 \n",
      "Pre-order Traversal: 20 15 7 18 26 30 \n",
      "Post-order Traversal: 7 18 15 30 26 20 "
     ]
    }
   ],
   "source": [
    "class BinaryTree:\n",
    "    def __init__(self, val):\n",
    "        self.left = None\n",
    "        self.right = None\n",
    "        self.value = val\n",
    "    def inorder(self):\n",
    "        if self.left:\n",
    "            self.left.inorder()\n",
    "        print(self.value, end=\" \")\n",
    "        if self.right:\n",
    "            self.right.inorder()\n",
    "    def preorder(self):\n",
    "        print(self.value, end=\" \")\n",
    "        if self.left:\n",
    "            self.left.preorder()\n",
    "        if self.right:\n",
    "            self.right.preorder()\n",
    "    def postorder(self):\n",
    "        if self.left:\n",
    "            self.left.postorder()\n",
    "        if self.right:\n",
    "            self.right.postorder()\n",
    "        print(self.value, end=\" \")\n",
    "        \n",
    "root = BinaryTree(20)\n",
    "root.left = BinaryTree(15)\n",
    "root.right = BinaryTree(26)\n",
    "root.left.left = BinaryTree(7)\n",
    "root.left.right = BinaryTree(18)\n",
    "root.right.right = BinaryTree(30)\n",
    "\n",
    "print(\"In-order Traversal: \", end=\"\")\n",
    "root.inorder()\n",
    "print(\"\\nPre-order Traversal: \", end=\"\")\n",
    "root.preorder()  \n",
    "print(\"\\nPost-order Traversal: \", end=\"\")\n",
    "root.postorder()  \n"
   ]
  },
  {
   "cell_type": "markdown",
   "id": "4f26d79e-76a1-47e6-a20f-83fb71b5e3c3",
   "metadata": {},
   "source": [
    "## 3.Write a program for bubble sort using python for the list a = [12,5,7,18,11,6,12,4,17,1]"
   ]
  },
  {
   "cell_type": "code",
   "execution_count": 3,
   "id": "9e9e3d48-cb72-4927-888f-599fd6b51d28",
   "metadata": {},
   "outputs": [
    {
     "name": "stdout",
     "output_type": "stream",
     "text": [
      "Sorted List: [1, 4, 5, 6, 7, 11, 12, 12, 17, 18]\n"
     ]
    }
   ],
   "source": [
    "def bubble_sort(arr):\n",
    "    n = len(arr)\n",
    "    for i in range(n):\n",
    "        for j in range(0, n-i-1):\n",
    "            if arr[j] > arr[j+1]:\n",
    "                arr[j], arr[j+1] = arr[j+1], arr[j]\n",
    "\n",
    "a = [12, 5, 7, 18, 11, 6, 12, 4, 17, 1]\n",
    "bubble_sort(a)\n",
    "print(\"Sorted List:\", a)"
   ]
  },
  {
   "cell_type": "markdown",
   "id": "f1ccd1c5-a189-4abd-90e5-3e0335295c54",
   "metadata": {},
   "source": [
    "## 4.Write a program for linear search using python.\n",
    "### Test Data:[11,23,58,31,56,77,43,12,65,19] searh for 31."
   ]
  },
  {
   "cell_type": "code",
   "execution_count": 4,
   "id": "ddfa2326-b80a-4bf4-b626-fe5576393007",
   "metadata": {},
   "outputs": [
    {
     "name": "stdout",
     "output_type": "stream",
     "text": [
      "(True, 3)\n"
     ]
    }
   ],
   "source": [
    "def linear_search(arr, target):\n",
    "    for i in range(len(arr)):\n",
    "        if arr[i] == target:\n",
    "            return (True, i)  \n",
    "    return (False, -1)  \n",
    "\n",
    "data = [11, 23, 58, 31, 56, 77, 43, 12, 65, 19]\n",
    "target = 31\n",
    "result = linear_search(data, target)\n",
    "print(result)"
   ]
  },
  {
   "cell_type": "code",
   "execution_count": null,
   "id": "56566cd8-7276-4416-aa5a-0577e10823b4",
   "metadata": {},
   "outputs": [],
   "source": []
  }
 ],
 "metadata": {
  "kernelspec": {
   "display_name": "Python 3 (ipykernel)",
   "language": "python",
   "name": "python3"
  },
  "language_info": {
   "codemirror_mode": {
    "name": "ipython",
    "version": 3
   },
   "file_extension": ".py",
   "mimetype": "text/x-python",
   "name": "python",
   "nbconvert_exporter": "python",
   "pygments_lexer": "ipython3",
   "version": "3.12.4"
  }
 },
 "nbformat": 4,
 "nbformat_minor": 5
}
