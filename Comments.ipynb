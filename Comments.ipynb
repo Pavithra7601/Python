{
 "cells": [
  {
   "cell_type": "markdown",
   "id": "3e8717ac-2fa2-4900-8147-7cedf97a196c",
   "metadata": {},
   "source": [
    "## COMMENTS :\n",
    "### Comments can be used to explain the python code.\n",
    "### It makes the code more readable.\n",
    "### Also used for the purpose of in-code documentation.\n",
    "### It starts with # and python rignores the rest of the line as a comment."
   ]
  },
  {
   "cell_type": "markdown",
   "id": "6ed7558d-bb8f-4503-98a6-ff9dfc5ba89c",
   "metadata": {},
   "source": [
    "## Single line comment :"
   ]
  },
  {
   "cell_type": "code",
   "execution_count": 3,
   "id": "b1fddcd1-937a-4b3f-9782-5ce1948f993b",
   "metadata": {},
   "outputs": [
    {
     "name": "stdout",
     "output_type": "stream",
     "text": [
      "Welcome\n"
     ]
    }
   ],
   "source": [
    "#python programming\n",
    "print(\"Welcome\")"
   ]
  },
  {
   "cell_type": "code",
   "execution_count": 2,
   "id": "b30c07d3-547e-4d66-9563-7235612a3004",
   "metadata": {},
   "outputs": [
    {
     "name": "stdout",
     "output_type": "stream",
     "text": [
      "Hello world!\n"
     ]
    }
   ],
   "source": [
    "print (\"Hello world!\")  #This is a comment"
   ]
  },
  {
   "cell_type": "markdown",
   "id": "ff9004ae-202d-4cc6-9460-4b294aee3fb3",
   "metadata": {},
   "source": [
    "## Multi line comment :\n",
    "### Python does't have a syntax for multi line comment\n",
    "### We need to use a # for each line to make a multiline comment"
   ]
  },
  {
   "cell_type": "code",
   "execution_count": 8,
   "id": "de5b1d06-d792-4978-8446-dc65d0708463",
   "metadata": {},
   "outputs": [],
   "source": [
    "# Python\n",
    "# is a\n",
    "# high level\n",
    "# programming language"
   ]
  },
  {
   "cell_type": "markdown",
   "id": "a3db0a2d-f110-4468-b8fe-ebf70fa64f98",
   "metadata": {},
   "source": [
    "### We can also use a triple quotes as a multi line comments.\n",
    "### Python ignores the string literals that are not assigned for a variable,so we can use it as a multiline comment."
   ]
  },
  {
   "cell_type": "code",
   "execution_count": 7,
   "id": "f3a1445f-886f-40aa-ad4d-9ebc7b6d8c1a",
   "metadata": {},
   "outputs": [
    {
     "name": "stdout",
     "output_type": "stream",
     "text": [
      "Python\n"
     ]
    }
   ],
   "source": [
    "\"\"\"\n",
    "Python \n",
    "is a\n",
    "high level \n",
    "programming language\n",
    "\"\"\"\n",
    "print(\"Python\")"
   ]
  }
 ],
 "metadata": {
  "kernelspec": {
   "display_name": "Python 3 (ipykernel)",
   "language": "python",
   "name": "python3"
  },
  "language_info": {
   "codemirror_mode": {
    "name": "ipython",
    "version": 3
   },
   "file_extension": ".py",
   "mimetype": "text/x-python",
   "name": "python",
   "nbconvert_exporter": "python",
   "pygments_lexer": "ipython3",
   "version": "3.12.7"
  }
 },
 "nbformat": 4,
 "nbformat_minor": 5
}
