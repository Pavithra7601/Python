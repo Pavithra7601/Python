{
 "cells": [
  {
   "cell_type": "markdown",
   "id": "5e2ca1e3-ab2e-4ab4-b44e-e73399f7371e",
   "metadata": {},
   "source": [
    "# Global Variable"
   ]
  },
  {
   "cell_type": "code",
   "execution_count": 1,
   "id": "06681cde-50c6-4d1b-9a94-27e6528ed4de",
   "metadata": {},
   "outputs": [
    {
     "name": "stdout",
     "output_type": "stream",
     "text": [
      "My Name is Pavithra\n"
     ]
    }
   ],
   "source": [
    "x=\"Pavithra\"\n",
    "def func():\n",
    "    print(\"My Name is\",x)\n",
    "func()"
   ]
  },
  {
   "cell_type": "code",
   "execution_count": 2,
   "id": "6819cad0-88f9-437b-bc57-8a9b8abbcc46",
   "metadata": {},
   "outputs": [
    {
     "name": "stdout",
     "output_type": "stream",
     "text": [
      "MyName is Pavi\n",
      "My Name is Pavithra\n"
     ]
    }
   ],
   "source": [
    "x=\"Pavithra\"\n",
    "def func():\n",
    "    x=\"Pavi\"\n",
    "    print(\"MyName is \"+x)\n",
    "func()\n",
    "print(\"My Name is \"+x)\n",
    "    "
   ]
  },
  {
   "cell_type": "code",
   "execution_count": 3,
   "id": "ebcd45b4-c8fd-4827-bda2-ef6a6a213103",
   "metadata": {},
   "outputs": [
    {
     "name": "stdout",
     "output_type": "stream",
     "text": [
      "Python is Fantastic\n"
     ]
    }
   ],
   "source": [
    "def func():\n",
    "    global x\n",
    "    x=\"Fantastic\"\n",
    "func()\n",
    "print(\"Python is\",x)"
   ]
  },
  {
   "cell_type": "code",
   "execution_count": 4,
   "id": "ceeccccf-2d16-48cd-b571-cc859485eccf",
   "metadata": {},
   "outputs": [
    {
     "name": "stdout",
     "output_type": "stream",
     "text": [
      "Python is Fantastic\n"
     ]
    }
   ],
   "source": [
    "a=\"Awesome\"\n",
    "def func():\n",
    "    global a\n",
    "    a=\"Fantastic\"\n",
    "func()\n",
    "print(\"Python is \"+a)"
   ]
  },
  {
   "cell_type": "code",
   "execution_count": null,
   "id": "52e18e80-026f-4733-84fe-15dc29d788ed",
   "metadata": {},
   "outputs": [],
   "source": []
  }
 ],
 "metadata": {
  "kernelspec": {
   "display_name": "Python 3 (ipykernel)",
   "language": "python",
   "name": "python3"
  },
  "language_info": {
   "codemirror_mode": {
    "name": "ipython",
    "version": 3
   },
   "file_extension": ".py",
   "mimetype": "text/x-python",
   "name": "python",
   "nbconvert_exporter": "python",
   "pygments_lexer": "ipython3",
   "version": "3.12.4"
  }
 },
 "nbformat": 4,
 "nbformat_minor": 5
}
