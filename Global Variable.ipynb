{
 "cells": [
  {
   "cell_type": "markdown",
   "id": "41ae6f14-964e-4547-af5e-09e07a360e0a",
   "metadata": {},
   "source": [
    "## GLOBAL VARIABLE\n",
    "Global variables are variables that are created outside the function.\n",
    "\n",
    "It can be accessed by both inside and outside the function."
   ]
  },
  {
   "cell_type": "code",
   "execution_count": 2,
   "id": "1354be8f-1042-4e3d-9d94-26f9ae0568fa",
   "metadata": {},
   "outputs": [
    {
     "name": "stdout",
     "output_type": "stream",
     "text": [
      "Python is Awesome\n"
     ]
    }
   ],
   "source": [
    "# variable created outside the function and it was accessed by inside the function.\n",
    "x = \"Awesome\"\n",
    "def func():\n",
    "    print(\"Python is\",x)\n",
    "func()"
   ]
  },
  {
   "cell_type": "markdown",
   "id": "0265f08b-9611-4f0a-b5ab-93b13ee31520",
   "metadata": {},
   "source": [
    "If variables are created outside and inside the function with the same name. The variable created inside will be local accessed by inside of the function. The global variable will remain as it was a global and with the original value.."
   ]
  },
  {
   "cell_type": "code",
   "execution_count": 3,
   "id": "eadf5d70-f052-4e03-a8cf-86a194b4609d",
   "metadata": {},
   "outputs": [
    {
     "name": "stdout",
     "output_type": "stream",
     "text": [
      "Python is Fantastic\n",
      "Python is Awesome\n"
     ]
    }
   ],
   "source": [
    "x = \"Awesome\"\n",
    "def func():\n",
    "    x = \"Fantastic\"\n",
    "    print(\"Python is\",x)\n",
    "func()\n",
    "print(\"Python is\",x)"
   ]
  },
  {
   "cell_type": "markdown",
   "id": "f0a01114-0418-439e-bbef-641bcd543101",
   "metadata": {},
   "source": [
    "## Global Keyword\n",
    "If we create a variabl inside a function it can be accessed only by inside of a function.\n",
    "\n",
    "If we create a variable with global keyword inside a function it can also be accessed by outside of the function."
   ]
  },
  {
   "cell_type": "code",
   "execution_count": 7,
   "id": "4f373636-22fe-4e0b-9cad-d06eafc42e1e",
   "metadata": {},
   "outputs": [
    {
     "name": "stdout",
     "output_type": "stream",
     "text": [
      "Python is Fantastic\n"
     ]
    }
   ],
   "source": [
    "def func():\n",
    "    global x\n",
    "    x = \"Fantastic\"\n",
    "func()\n",
    "print(\"Python is\",x)"
   ]
  },
  {
   "cell_type": "markdown",
   "id": "4edb6c90-3a67-4263-828e-ac24b2607b05",
   "metadata": {},
   "source": [
    "We can also able to change the value of the golbal variable inside a function by the global keyword."
   ]
  },
  {
   "cell_type": "code",
   "execution_count": 9,
   "id": "7734a4ff-7ee6-4983-9e3e-fb7e02503ebb",
   "metadata": {},
   "outputs": [
    {
     "name": "stdout",
     "output_type": "stream",
     "text": [
      "Python is Fantastic\n"
     ]
    }
   ],
   "source": [
    "x = \"Awesome\"\n",
    "def func():\n",
    "    global x\n",
    "    x = \"Fantastic\"\n",
    "func()\n",
    "print(\"Python is\",x)"
   ]
  }
 ],
 "metadata": {
  "kernelspec": {
   "display_name": "Python 3 (ipykernel)",
   "language": "python",
   "name": "python3"
  },
  "language_info": {
   "codemirror_mode": {
    "name": "ipython",
    "version": 3
   },
   "file_extension": ".py",
   "mimetype": "text/x-python",
   "name": "python",
   "nbconvert_exporter": "python",
   "pygments_lexer": "ipython3",
   "version": "3.12.7"
  }
 },
 "nbformat": 4,
 "nbformat_minor": 5
}
