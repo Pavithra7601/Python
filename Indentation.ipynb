{
 "cells": [
  {
   "cell_type": "markdown",
   "id": "9c8af908-5f22-4c6b-b799-9205e1f16874",
   "metadata": {},
   "source": [
    "## INDENTATION"
   ]
  },
  {
   "cell_type": "markdown",
   "id": "73d966bd-33e2-4488-943c-af19f883c420",
   "metadata": {},
   "source": [
    "### Indentation refers to a space at the beginning of a code line.\n",
    "### It indicates a block of code.\n",
    "### In other programming languages indentation is only for reading purpose.But in python it is very important.\n",
    "### If we skip the indentation it gives an error.\n",
    "### The common space for indentation is four, but atleast we should give one.\n",
    "### we have ti give the same number of spaces to the same block of code."
   ]
  },
  {
   "cell_type": "code",
   "execution_count": 2,
   "id": "94d2c833-b8d5-4095-9c9c-4fe29ee580f5",
   "metadata": {},
   "outputs": [
    {
     "name": "stdout",
     "output_type": "stream",
     "text": [
      "True\n"
     ]
    }
   ],
   "source": [
    "if 5>2:\n",
    "    print(\"True\")"
   ]
  },
  {
   "cell_type": "code",
   "execution_count": 4,
   "id": "3d9ea613-46fd-462a-a1dc-4d85b4e506c8",
   "metadata": {},
   "outputs": [
    {
     "ename": "IndentationError",
     "evalue": "expected an indented block after 'if' statement on line 1 (4008746345.py, line 2)",
     "output_type": "error",
     "traceback": [
      "\u001b[1;36m  Cell \u001b[1;32mIn[4], line 2\u001b[1;36m\u001b[0m\n\u001b[1;33m    print(\"True\")\u001b[0m\n\u001b[1;37m    ^\u001b[0m\n\u001b[1;31mIndentationError\u001b[0m\u001b[1;31m:\u001b[0m expected an indented block after 'if' statement on line 1\n"
     ]
    }
   ],
   "source": [
    "# If we skip the indentation it gives an error:\n",
    "if 5>2:\n",
    "print(\"True\")"
   ]
  },
  {
   "cell_type": "code",
   "execution_count": 9,
   "id": "95de9526-09c0-4bb4-aacc-1199ba0cd3f0",
   "metadata": {},
   "outputs": [
    {
     "name": "stdout",
     "output_type": "stream",
     "text": [
      "true\n"
     ]
    }
   ],
   "source": [
    "#The common space for indentation is four, but atleast we should give one:\n",
    "x=105\n",
    "if x!=10:\n",
    "  print(\"True\")"
   ]
  },
  {
   "cell_type": "code",
   "execution_count": 8,
   "id": "b9324a9b-5093-4e40-aa8b-9051e9f98ae7",
   "metadata": {},
   "outputs": [
    {
     "name": "stdout",
     "output_type": "stream",
     "text": [
      "Yes\n",
      "Both are Same\n"
     ]
    }
   ],
   "source": [
    "#we have ti give the same number of spaces to the same block of code:\n",
    "a=10\n",
    "if a==10:\n",
    "    print(\"Yes\")\n",
    "    print(\"Both are Same\")"
   ]
  },
  {
   "cell_type": "code",
   "execution_count": null,
   "id": "8a98fe6a-cff6-4005-98cd-eaf5ec834fe4",
   "metadata": {},
   "outputs": [],
   "source": []
  }
 ],
 "metadata": {
  "kernelspec": {
   "display_name": "Python 3 (ipykernel)",
   "language": "python",
   "name": "python3"
  },
  "language_info": {
   "codemirror_mode": {
    "name": "ipython",
    "version": 3
   },
   "file_extension": ".py",
   "mimetype": "text/x-python",
   "name": "python",
   "nbconvert_exporter": "python",
   "pygments_lexer": "ipython3",
   "version": "3.12.4"
  }
 },
 "nbformat": 4,
 "nbformat_minor": 5
}
