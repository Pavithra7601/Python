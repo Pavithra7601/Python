{
 "cells": [
  {
   "cell_type": "markdown",
   "id": "7a8b2052-8338-4262-8da5-bbe7fb034dea",
   "metadata": {},
   "source": [
    "## NUMBERS :\n",
    "    i) int\n",
    "\n",
    "    ii) float\n",
    "\n",
    "    iii) complex\n",
    "\n",
    "## Type Conversion :"
   ]
  },
  {
   "cell_type": "code",
   "execution_count": 5,
   "id": "d4e18098-62c3-46d4-81b9-b650e64a14a6",
   "metadata": {},
   "outputs": [
    {
     "name": "stdout",
     "output_type": "stream",
     "text": [
      "24.0\n",
      "<class 'float'>\n"
     ]
    }
   ],
   "source": [
    "# 1) Converting int to float :\n",
    "x = 24\n",
    "y = float(x)\n",
    "print(y)\n",
    "print(type(y))"
   ]
  },
  {
   "cell_type": "code",
   "execution_count": 6,
   "id": "a0b3b49e-6262-43e3-a943-3bcce3a5a200",
   "metadata": {},
   "outputs": [
    {
     "name": "stdout",
     "output_type": "stream",
     "text": [
      "52\n",
      "<class 'int'>\n"
     ]
    }
   ],
   "source": [
    "# 2) Converting float to int\n",
    "x = 52.18\n",
    "y = int(x)\n",
    "print(y)\n",
    "print(type(y))"
   ]
  },
  {
   "cell_type": "markdown",
   "id": "157c59cf-deb1-413f-acfe-f4868e708d9c",
   "metadata": {},
   "source": [
    "#### NOTE : We cannot able to convert complex into int or float"
   ]
  },
  {
   "cell_type": "code",
   "execution_count": 7,
   "id": "8226f89b-aab1-482a-893d-112d58ce9a2d",
   "metadata": {},
   "outputs": [
    {
     "name": "stdout",
     "output_type": "stream",
     "text": [
      "(24+0j)\n",
      "<class 'complex'>\n"
     ]
    }
   ],
   "source": [
    "# 3) Converting int to complex\n",
    "x = 24\n",
    "y = complex(x)\n",
    "print(y)\n",
    "print(type(y))"
   ]
  },
  {
   "cell_type": "code",
   "execution_count": 4,
   "id": "d50a47b6-14de-4a2c-8db8-669085fa1abe",
   "metadata": {},
   "outputs": [
    {
     "name": "stdout",
     "output_type": "stream",
     "text": [
      "(24.765+0j)\n",
      "<class 'complex'>\n"
     ]
    }
   ],
   "source": [
    "# 4)Converting float to complex\n",
    "x = 24.765\n",
    "y = complex(x)\n",
    "print(y)\n",
    "print(type(y))"
   ]
  },
  {
   "cell_type": "markdown",
   "id": "5d7383cc-649b-483f-9c10-f5475d952f79",
   "metadata": {},
   "source": [
    "### Random Number\n",
    "Python does't have a function to make a random number. It has a built-in-module called random to make a random number\n",
    "\n",
    "First we need to import the random module"
   ]
  },
  {
   "cell_type": "code",
   "execution_count": 15,
   "id": "d4ff5806-62eb-410e-a790-495917045020",
   "metadata": {},
   "outputs": [
    {
     "name": "stdout",
     "output_type": "stream",
     "text": [
      "17\n"
     ]
    }
   ],
   "source": [
    "import random\n",
    "print(random.randrange(0,50))"
   ]
  }
 ],
 "metadata": {
  "kernelspec": {
   "display_name": "Python 3 (ipykernel)",
   "language": "python",
   "name": "python3"
  },
  "language_info": {
   "codemirror_mode": {
    "name": "ipython",
    "version": 3
   },
   "file_extension": ".py",
   "mimetype": "text/x-python",
   "name": "python",
   "nbconvert_exporter": "python",
   "pygments_lexer": "ipython3",
   "version": "3.12.7"
  }
 },
 "nbformat": 4,
 "nbformat_minor": 5
}
