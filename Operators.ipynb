{
 "cells": [
  {
   "cell_type": "markdown",
   "id": "0ea14dd7-1dd7-4f98-b65c-057eda2ceb95",
   "metadata": {},
   "source": [
    "## OPERATORS :\n",
    "    operators are used to perform operations on values and variables\n",
    "\n",
    "### Types of Operators :\n",
    "    1.Arithmetic Operators\n",
    "\n",
    "    2.Assignment Operators\n",
    "\n",
    "    3.Comparison Operators\n",
    "\n",
    "    4.Logical Operators\n",
    "\n",
    "    5.Identity Operators\n",
    "\n",
    "    6.Membership Operators\n",
    "\n",
    "    7.Bitwise Operators"
   ]
  },
  {
   "cell_type": "markdown",
   "id": "9fabc2d3-f965-40fb-94eb-25ad5237c18f",
   "metadata": {},
   "source": [
    "### 1.Arithmetic Operators\n",
    "    used to perform common mathematical operations\n"
   ]
  },
  {
   "cell_type": "code",
   "execution_count": 3,
   "id": "9cd2170f-4f4d-4d10-807f-9c9ab117bc63",
   "metadata": {},
   "outputs": [
    {
     "name": "stdout",
     "output_type": "stream",
     "text": [
      "7\n",
      "3\n",
      "10\n",
      "2.5\n",
      "1\n",
      "25\n",
      "2\n"
     ]
    }
   ],
   "source": [
    "a = 5\n",
    "b = 2\n",
    "\n",
    "#Addition\n",
    "print(a+b)\n",
    "\n",
    "#Subtraction\n",
    "print(a-b)\n",
    "\n",
    "#Multiplication\n",
    "print(a*b)\n",
    "\n",
    "#Division(Quotient)\n",
    "print(a/b)\n",
    "\n",
    "#Modulus(Remainder)\n",
    "print(a%b)\n",
    "\n",
    "#Exponentation - It works same as the pow(a,b) function\n",
    "print(a**b) #5*5\n",
    "\n",
    "#Floor Division - Rounds the result to the nearest whole number\n",
    "print(a//b)"
   ]
  },
  {
   "cell_type": "markdown",
   "id": "a4d5e9be-47b0-4aba-adac-e32593ac06b6",
   "metadata": {},
   "source": [
    "### 2.Assignment Operator\n",
    "    used to assign values to the variables"
   ]
  },
  {
   "cell_type": "code",
   "execution_count": 16,
   "id": "647844b2-d452-450c-9233-1e5ff7178f52",
   "metadata": {},
   "outputs": [
    {
     "name": "stdout",
     "output_type": "stream",
     "text": [
      "5\n"
     ]
    }
   ],
   "source": [
    "x = 5\n",
    "print(x)"
   ]
  },
  {
   "cell_type": "code",
   "execution_count": 17,
   "id": "1e32bd7c-43c0-4610-9166-bbe0d3762f2b",
   "metadata": {},
   "outputs": [
    {
     "name": "stdout",
     "output_type": "stream",
     "text": [
      "8\n"
     ]
    }
   ],
   "source": [
    "x = 5\n",
    "x += 3  #x=x+3\n",
    "print(x)"
   ]
  },
  {
   "cell_type": "code",
   "execution_count": 18,
   "id": "4b87bec9-6f8d-4fa7-9a93-7b4bdfc93c6a",
   "metadata": {},
   "outputs": [
    {
     "name": "stdout",
     "output_type": "stream",
     "text": [
      "3\n"
     ]
    }
   ],
   "source": [
    "x = 5\n",
    "x -= 2  #x=x-2\n",
    "print(x)"
   ]
  },
  {
   "cell_type": "code",
   "execution_count": 19,
   "id": "1fe83d83-f5e3-443d-ac8c-16f66c3c7830",
   "metadata": {},
   "outputs": [
    {
     "name": "stdout",
     "output_type": "stream",
     "text": [
      "20\n"
     ]
    }
   ],
   "source": [
    "x = 5\n",
    "x *= 4  #x=x*4\n",
    "print(x)"
   ]
  },
  {
   "cell_type": "code",
   "execution_count": 20,
   "id": "98ee9426-6cf4-4388-b29c-482c9227b7d0",
   "metadata": {},
   "outputs": [
    {
     "name": "stdout",
     "output_type": "stream",
     "text": [
      "2.5\n"
     ]
    }
   ],
   "source": [
    "x = 5\n",
    "x /= 2  #x=x/2\n",
    "print(x)"
   ]
  },
  {
   "cell_type": "code",
   "execution_count": 21,
   "id": "9320e5d0-1890-4246-bb56-2677aaa8a2d1",
   "metadata": {},
   "outputs": [
    {
     "name": "stdout",
     "output_type": "stream",
     "text": [
      "1\n"
     ]
    }
   ],
   "source": [
    "x = 5\n",
    "x %= 2  #x=x%2\n",
    "print(x)"
   ]
  },
  {
   "cell_type": "code",
   "execution_count": 22,
   "id": "903f16c9-d360-4423-9892-c38ecb795a4b",
   "metadata": {},
   "outputs": [
    {
     "name": "stdout",
     "output_type": "stream",
     "text": [
      "3125\n"
     ]
    }
   ],
   "source": [
    "x = 5\n",
    "x **= 5 # 5*5*5*5*5\n",
    "print(x)"
   ]
  },
  {
   "cell_type": "code",
   "execution_count": 23,
   "id": "181e768c-48e3-436a-bc34-86757d391cd1",
   "metadata": {},
   "outputs": [
    {
     "name": "stdout",
     "output_type": "stream",
     "text": [
      "2\n"
     ]
    }
   ],
   "source": [
    "x = 5\n",
    "x //= 2   #x=x//2\n",
    "print(x)"
   ]
  },
  {
   "cell_type": "code",
   "execution_count": 24,
   "id": "e097b14b-e759-4418-b4a0-4474e291a0e5",
   "metadata": {},
   "outputs": [
    {
     "name": "stdout",
     "output_type": "stream",
     "text": [
      "1\n"
     ]
    }
   ],
   "source": [
    "x = 5\n",
    "x &= 3  #x=x&3\n",
    "print(x)"
   ]
  },
  {
   "cell_type": "code",
   "execution_count": 26,
   "id": "c32aef19-f051-4dc3-aa73-839fe45cc587",
   "metadata": {},
   "outputs": [
    {
     "name": "stdout",
     "output_type": "stream",
     "text": [
      "11\n"
     ]
    }
   ],
   "source": [
    "x = 15\n",
    "x ^= 4  #x=x^4\n",
    "print(x)"
   ]
  },
  {
   "cell_type": "code",
   "execution_count": 27,
   "id": "3e3451d4-0a16-4e9d-921b-27c6ed9ed7a9",
   "metadata": {},
   "outputs": [
    {
     "name": "stdout",
     "output_type": "stream",
     "text": [
      "20\n"
     ]
    }
   ],
   "source": [
    "x = 5\n",
    "x <<= 2   #x=x<<2\n",
    "print(x)"
   ]
  },
  {
   "cell_type": "code",
   "execution_count": 28,
   "id": "bbede552-cfeb-4b07-a51d-e22df659e66e",
   "metadata": {},
   "outputs": [
    {
     "name": "stdout",
     "output_type": "stream",
     "text": [
      "5\n"
     ]
    }
   ],
   "source": [
    "x = 5\n",
    "x >> 4  #x=x>>4\n",
    "print(x)"
   ]
  },
  {
   "cell_type": "code",
   "execution_count": 32,
   "id": "af045cc9-5132-49f1-9946-74e74e6c25c6",
   "metadata": {},
   "outputs": [
    {
     "name": "stdout",
     "output_type": "stream",
     "text": [
      "3\n"
     ]
    }
   ],
   "source": [
    "print(x := 3)  #x=3"
   ]
  },
  {
   "cell_type": "markdown",
   "id": "d27aee46-c858-4f30-b1d1-4e2031069777",
   "metadata": {},
   "source": [
    "### 3.Comparison operators\n",
    "    used to compare two values"
   ]
  },
  {
   "cell_type": "code",
   "execution_count": 33,
   "id": "75e03568-1197-4ae2-a6c4-e90c2256f9a6",
   "metadata": {},
   "outputs": [
    {
     "name": "stdout",
     "output_type": "stream",
     "text": [
      "False\n"
     ]
    }
   ],
   "source": [
    "#Equal To(==)\n",
    "a = 5\n",
    "b = 7\n",
    "print(a==b)"
   ]
  },
  {
   "cell_type": "code",
   "execution_count": 34,
   "id": "9ee14c5c-b1a5-4fd5-9d93-7f99dc90be22",
   "metadata": {},
   "outputs": [
    {
     "name": "stdout",
     "output_type": "stream",
     "text": [
      "True\n"
     ]
    }
   ],
   "source": [
    "#Not Equal To(!=)\n",
    "a = 5\n",
    "b = 7\n",
    "print(a!=b)"
   ]
  },
  {
   "cell_type": "code",
   "execution_count": 35,
   "id": "9fefae9d-baa1-4a12-a4a8-414379b42cee",
   "metadata": {},
   "outputs": [
    {
     "name": "stdout",
     "output_type": "stream",
     "text": [
      "False\n"
     ]
    }
   ],
   "source": [
    "#Greater Than(>)\n",
    "a = 5\n",
    "b = 7\n",
    "print(a>b)"
   ]
  },
  {
   "cell_type": "code",
   "execution_count": 36,
   "id": "298102a0-4ea9-483f-970e-c82a7a721bfd",
   "metadata": {},
   "outputs": [
    {
     "name": "stdout",
     "output_type": "stream",
     "text": [
      "True\n"
     ]
    }
   ],
   "source": [
    "#Lesser Than(<)\n",
    "a = 5\n",
    "b = 7\n",
    "print(a<b)"
   ]
  },
  {
   "cell_type": "code",
   "execution_count": 37,
   "id": "d6d5c3fa-5402-4fe9-9d81-aae298af740d",
   "metadata": {},
   "outputs": [
    {
     "name": "stdout",
     "output_type": "stream",
     "text": [
      "False\n"
     ]
    }
   ],
   "source": [
    "#Greater Than Equal To(>=)\n",
    "a = 5\n",
    "b = 7\n",
    "print(a>=b)"
   ]
  },
  {
   "cell_type": "code",
   "execution_count": 38,
   "id": "4b96c172-13bd-4677-961a-8e92cc9c0e60",
   "metadata": {},
   "outputs": [
    {
     "name": "stdout",
     "output_type": "stream",
     "text": [
      "True\n"
     ]
    }
   ],
   "source": [
    "#Lesser Than Equal To(<=)\n",
    "a = 5\n",
    "b = 7\n",
    "print(a<=b)"
   ]
  },
  {
   "cell_type": "markdown",
   "id": "9f2f9981-d7b9-4735-8648-3b28fec11a06",
   "metadata": {},
   "source": [
    "### 4.Logical Operators\n",
    "    used to combine conditional statements\n",
    "#### i)and\n",
    "\n",
    "    return true if both statements are true, otherwise false"
   ]
  },
  {
   "cell_type": "code",
   "execution_count": 41,
   "id": "9bb19368-932f-422b-a666-dac6be1a6d10",
   "metadata": {},
   "outputs": [
    {
     "name": "stdout",
     "output_type": "stream",
     "text": [
      "True\n"
     ]
    }
   ],
   "source": [
    "a = 6\n",
    "b = 9\n",
    "print(a<b and a!=b)"
   ]
  },
  {
   "cell_type": "markdown",
   "id": "05a63e7a-141b-4e8f-9654-d10e7e112d3d",
   "metadata": {},
   "source": [
    "#### ii)or\n",
    "        return true if one of the statements are true"
   ]
  },
  {
   "cell_type": "code",
   "execution_count": 43,
   "id": "a71874ad-2def-4ab8-9178-8b99da6767b3",
   "metadata": {},
   "outputs": [
    {
     "name": "stdout",
     "output_type": "stream",
     "text": [
      "False\n"
     ]
    }
   ],
   "source": [
    "a = 6\n",
    "b = 9\n",
    "print(a>b or a==b)"
   ]
  },
  {
   "cell_type": "markdown",
   "id": "59657003-3fa9-4379-95fa-d9ee2c4690cb",
   "metadata": {},
   "source": [
    "#### iii)not\n",
    "        reverse the result"
   ]
  },
  {
   "cell_type": "code",
   "execution_count": 44,
   "id": "6f087011-bcd7-419d-b513-cfbb6c254de3",
   "metadata": {},
   "outputs": [
    {
     "name": "stdout",
     "output_type": "stream",
     "text": [
      "False\n"
     ]
    }
   ],
   "source": [
    "a = 6\n",
    "b = 9\n",
    "print(not(a<b and a!=b))"
   ]
  },
  {
   "cell_type": "markdown",
   "id": "2ad7b8bb-aace-4de4-bb90-1fd69ebdbee9",
   "metadata": {},
   "source": [
    "### 5.Identity Operators\n",
    "    used to compare objects, not they are equal, but they are same object with same memory location\n",
    "\n",
    "#### i)is\n",
    "\n",
    "        return true if both variables are the same object in memeory"
   ]
  },
  {
   "cell_type": "code",
   "execution_count": 45,
   "id": "624b8dc3-010d-4c19-b8e1-78b3818d1a33",
   "metadata": {},
   "outputs": [
    {
     "name": "stdout",
     "output_type": "stream",
     "text": [
      "True\n"
     ]
    }
   ],
   "source": [
    "x = [\"apple\",\"banana\"]\n",
    "y = [\"apple\",\"banana\"]\n",
    "z = x\n",
    "print(x is z)"
   ]
  },
  {
   "cell_type": "code",
   "execution_count": 46,
   "id": "7312858c-4f5d-4ddf-b05d-7394b342847c",
   "metadata": {},
   "outputs": [
    {
     "name": "stdout",
     "output_type": "stream",
     "text": [
      "True\n"
     ]
    }
   ],
   "source": [
    "x = [\"apple\",\"banana\"]\n",
    "y = [\"apple\",\"banana\"]\n",
    "z = x\n",
    "print(z is x)"
   ]
  },
  {
   "cell_type": "code",
   "execution_count": 47,
   "id": "fb3e323f-607c-4385-ba15-0ca798ced913",
   "metadata": {},
   "outputs": [
    {
     "name": "stdout",
     "output_type": "stream",
     "text": [
      "False\n"
     ]
    }
   ],
   "source": [
    "#return false because x is not the same content and memeory location,even if they have equal\n",
    "x = [\"apple\",\"banana\"]\n",
    "y = [\"apple\",\"banana\"]\n",
    "z = x\n",
    "print(x is y)"
   ]
  },
  {
   "cell_type": "markdown",
   "id": "d1a279c9-5eb1-4ac3-a37c-fbc0aaf93909",
   "metadata": {},
   "source": [
    "#### ii)is not\n",
    "        return true if both variable are not same object in memory"
   ]
  },
  {
   "cell_type": "code",
   "execution_count": 50,
   "id": "d69f39d8-0dc7-4407-b73c-40c79cb5f8c8",
   "metadata": {},
   "outputs": [
    {
     "name": "stdout",
     "output_type": "stream",
     "text": [
      "True\n"
     ]
    }
   ],
   "source": [
    "x = [\"apple\",\"banana\"]\n",
    "y = [\"apple\",\"banana\"]\n",
    "z = x\n",
    "print(x is not y)"
   ]
  },
  {
   "cell_type": "code",
   "execution_count": 51,
   "id": "d6fb638f-54c8-428f-a293-2fd0fdfb426e",
   "metadata": {},
   "outputs": [
    {
     "name": "stdout",
     "output_type": "stream",
     "text": [
      "False\n"
     ]
    }
   ],
   "source": [
    "x = [\"apple\",\"banana\"]\n",
    "y = [\"apple\",\"banana\"]\n",
    "z = x\n",
    "print(x is not z)"
   ]
  },
  {
   "cell_type": "markdown",
   "id": "3f006540-7d96-4382-a5ec-bb8f8c31f131",
   "metadata": {},
   "source": [
    "### 6.Membership Operators\n",
    "        used to check if a specific item is present in a sequence,such as list,tuple,string,set,dictionary\n",
    "#### i)in\n",
    "        return true if specific item is present in a sequence"
   ]
  },
  {
   "cell_type": "code",
   "execution_count": 52,
   "id": "3b44e6e1-4952-40d5-a968-936e80d6d97c",
   "metadata": {},
   "outputs": [
    {
     "name": "stdout",
     "output_type": "stream",
     "text": [
      "True\n"
     ]
    }
   ],
   "source": [
    "x = (\"apple\",\"banana\")\n",
    "print(\"banana\" in x)"
   ]
  },
  {
   "cell_type": "code",
   "execution_count": 53,
   "id": "f0bea92b-1f3a-494e-aff7-d428787dd741",
   "metadata": {},
   "outputs": [
    {
     "name": "stdout",
     "output_type": "stream",
     "text": [
      "False\n"
     ]
    }
   ],
   "source": [
    "x = (\"apple\",\"banana\")\n",
    "print(\"kiwi\" in x)"
   ]
  },
  {
   "cell_type": "markdown",
   "id": "7afb807e-2425-49cb-a885-34c46038e0b3",
   "metadata": {},
   "source": [
    "#### ii)not in\n",
    "            return true if the specific item is not present in a sequence"
   ]
  },
  {
   "cell_type": "code",
   "execution_count": 54,
   "id": "6b9c7845-5807-462b-bb79-b6e042c8d2c8",
   "metadata": {},
   "outputs": [
    {
     "name": "stdout",
     "output_type": "stream",
     "text": [
      "False\n"
     ]
    }
   ],
   "source": [
    "x = (\"apple\",\"banana\")\n",
    "print(\"banana\" not in x)"
   ]
  },
  {
   "cell_type": "code",
   "execution_count": 56,
   "id": "be42d33a-21d3-44b9-9f93-dd15274f71ce",
   "metadata": {},
   "outputs": [
    {
     "name": "stdout",
     "output_type": "stream",
     "text": [
      "True\n"
     ]
    }
   ],
   "source": [
    "x = (\"apple\",\"banana\")\n",
    "print(\"guava\" not in x)"
   ]
  },
  {
   "cell_type": "markdown",
   "id": "5aa6a440-6198-4fc8-8ae3-e9bb12c2dbbf",
   "metadata": {},
   "source": [
    "### 7.Bitwise Operators\n",
    "         used to perform operations on binary numbers"
   ]
  },
  {
   "cell_type": "code",
   "execution_count": 57,
   "id": "0b08df93-433c-4bf0-8c4e-799abcad8d04",
   "metadata": {},
   "outputs": [
    {
     "name": "stdout",
     "output_type": "stream",
     "text": [
      "0\n"
     ]
    }
   ],
   "source": [
    "#AND(&)\n",
    "a = 5\n",
    "b = 2\n",
    "print(a&b)"
   ]
  },
  {
   "cell_type": "code",
   "execution_count": 58,
   "id": "8119ec0c-d470-4a6f-94c4-b78e7e28d1a2",
   "metadata": {},
   "outputs": [
    {
     "name": "stdout",
     "output_type": "stream",
     "text": [
      "7\n"
     ]
    }
   ],
   "source": [
    "#OR(|)\n",
    "a = 5\n",
    "b = 2\n",
    "print(a|b)"
   ]
  },
  {
   "cell_type": "code",
   "execution_count": 59,
   "id": "3c42c329-36c1-4c75-8c1f-1ed543ac00f3",
   "metadata": {},
   "outputs": [
    {
     "name": "stdout",
     "output_type": "stream",
     "text": [
      "-6\n"
     ]
    }
   ],
   "source": [
    "#NOT(~)\n",
    "a = 5\n",
    "print(~a)"
   ]
  },
  {
   "cell_type": "code",
   "execution_count": 60,
   "id": "65641d4d-7b12-4720-b0c0-5886394c5eaa",
   "metadata": {},
   "outputs": [
    {
     "name": "stdout",
     "output_type": "stream",
     "text": [
      "7\n"
     ]
    }
   ],
   "source": [
    "#XOR(^)\n",
    "a = 5\n",
    "b = 2\n",
    "print(a^b)"
   ]
  },
  {
   "cell_type": "code",
   "execution_count": 61,
   "id": "a7e8dff1-74fe-4a2e-b1b5-723d516adb4e",
   "metadata": {},
   "outputs": [
    {
     "name": "stdout",
     "output_type": "stream",
     "text": [
      "1\n"
     ]
    }
   ],
   "source": [
    "#Right shift(>>)\n",
    "a = 5\n",
    "b = 2\n",
    "print(a>>b)"
   ]
  },
  {
   "cell_type": "code",
   "execution_count": 62,
   "id": "54c2e80d-d630-4dbe-96d3-e3e311ab7281",
   "metadata": {},
   "outputs": [
    {
     "name": "stdout",
     "output_type": "stream",
     "text": [
      "20\n"
     ]
    }
   ],
   "source": [
    "#Left shift(<<)\n",
    "a = 5\n",
    "b = 2\n",
    "print(a<<b)"
   ]
  }
 ],
 "metadata": {
  "kernelspec": {
   "display_name": "Python 3 (ipykernel)",
   "language": "python",
   "name": "python3"
  },
  "language_info": {
   "codemirror_mode": {
    "name": "ipython",
    "version": 3
   },
   "file_extension": ".py",
   "mimetype": "text/x-python",
   "name": "python",
   "nbconvert_exporter": "python",
   "pygments_lexer": "ipython3",
   "version": "3.12.7"
  }
 },
 "nbformat": 4,
 "nbformat_minor": 5
}
