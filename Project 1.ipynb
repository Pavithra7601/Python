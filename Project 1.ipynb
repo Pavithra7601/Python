{
 "cells": [
  {
   "cell_type": "markdown",
   "id": "9a4b3d63-f324-4e7c-823c-d0c4e79b8a38",
   "metadata": {},
   "source": [
    "## 1.Write a program that takes a number N as input from the user and prints pascal's triangle of N height/steps.\n",
    "#### Pascal's triangle is a  triangular array constructed by summing adjacent elements in preceding rows.\n"
   ]
  },
  {
   "cell_type": "code",
   "execution_count": 1,
   "id": "5ed3a0b3-479a-4731-9bb3-3024fafa74a5",
   "metadata": {},
   "outputs": [
    {
     "name": "stdin",
     "output_type": "stream",
     "text": [
      "Enter the number of rows : 7\n"
     ]
    },
    {
     "name": "stdout",
     "output_type": "stream",
     "text": [
      "       1\n",
      "      1 1\n",
      "     1 2 1\n",
      "    1 3 3 1\n",
      "   1 4 6 4 1\n",
      "  1 6 1 0 5 1\n",
      " 1 7 7 1 5 6 1\n"
     ]
    }
   ],
   "source": [
    "n = int(input(\"Enter the number of rows :\"))\n",
    "for i in range(n):\n",
    "    print(' '*(n-i), end='')\n",
    "    print(' '.join(str(11**i)))"
   ]
  },
  {
   "cell_type": "markdown",
   "id": "d5033c23-7705-4fba-84fc-66c4ac9c6c2a",
   "metadata": {},
   "source": [
    "## 2.Write a program that keeps taking user input for password until 'Enter' key is pressed and then checks password with following validation :\n",
    "#### At least 9 characters\n",
    "#### Contains 1 uppercase and 1 lowercase letter at least\n",
    "#### Contains 1 number at least\n",
    "#### Contains 1 special character at least and it should be one of the allowed special characters[$,_,%]\n",
    "#### If password is incorrect show related error else show a success message\n"
   ]
  },
  {
   "cell_type": "code",
   "execution_count": 2,
   "id": "2d5d3ea5-13ca-4304-8620-f7f1b0763659",
   "metadata": {},
   "outputs": [
    {
     "name": "stdin",
     "output_type": "stream",
     "text": [
      "Enter your password : pavi_7777\n"
     ]
    },
    {
     "name": "stdout",
     "output_type": "stream",
     "text": [
      "Password must contain at least one uppercase letter.\n"
     ]
    }
   ],
   "source": [
    "lower, upper, digit, special = 0, 0, 0, 0\n",
    "password = input(\"Enter your password :\")\n",
    "if (len(password) >= 9):\n",
    "    for i in password:\n",
    "        if (i.islower()):\n",
    "            lower+=1            \n",
    "        if (i.isupper()):\n",
    "            upper+=1            \n",
    "        if (i.isdigit()):\n",
    "            digit+=1            \n",
    "        if(i=='$'or i=='_' or i=='%'):\n",
    "            special+=1           \n",
    "    if lower == 0:\n",
    "        print(\"Password must contain at least one lowercase letter.\")\n",
    "    if upper == 0:\n",
    "        print(\"Password must contain at least one uppercase letter.\")\n",
    "    if digit == 0:\n",
    "        print(\"Password must contain at least one digit.\")\n",
    "    if special == 0:\n",
    "        print(\"Password must contain at least one special character ($, _, or %).\")\n",
    "    if lower + upper + digit + special != len(password):\n",
    "        print(\"Password contains invalid characters.\")\n",
    "    if lower >= 1 and upper >= 1 and digit >= 1 and special >= 1 and lower + upper + digit + special == len(password):\n",
    "        print(\"Valid Password\")\n",
    "else:\n",
    "    print(\"Password must be at least 9 characters long.\")"
   ]
  },
  {
   "cell_type": "code",
   "execution_count": null,
   "id": "6c0160ee-354a-4e30-ade5-fc36692ba7fb",
   "metadata": {},
   "outputs": [],
   "source": []
  }
 ],
 "metadata": {
  "kernelspec": {
   "display_name": "Python 3 (ipykernel)",
   "language": "python",
   "name": "python3"
  },
  "language_info": {
   "codemirror_mode": {
    "name": "ipython",
    "version": 3
   },
   "file_extension": ".py",
   "mimetype": "text/x-python",
   "name": "python",
   "nbconvert_exporter": "python",
   "pygments_lexer": "ipython3",
   "version": "3.12.4"
  }
 },
 "nbformat": 4,
 "nbformat_minor": 5
}
