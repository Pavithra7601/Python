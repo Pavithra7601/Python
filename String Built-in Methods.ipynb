{
 "cells": [
  {
   "cell_type": "markdown",
   "id": "460a1281-ad6b-4aca-bb1c-8b3ea175955f",
   "metadata": {},
   "source": [
    "## STRING BUILT-IN METHODS :\n",
    "        1.lower()\n",
    "        2.upper()\n",
    "        3.capitalize()\n",
    "        4.casefold()\n",
    "        5.center()\n",
    "        6.count()\n",
    "        7.index()\n",
    "        8.find()\n",
    "        9.replace()\n",
    "        10.strip()\n",
    "        11.split()\n",
    "        12.join()\n",
    "        13.format()\n",
    "        14.format_map()\n",
    "        15.isalnum()\n",
    "        16.isalpha()\n",
    "        17.isascii()\n",
    "        18.isdecimal()\n",
    "        19.isdigit()\n",
    "        20.isnumeric()\n",
    "        21.islower()\n",
    "        22.isupper()\n",
    "        23.isspace()"
   ]
  },
  {
   "cell_type": "markdown",
   "id": "1e43961e-531a-4295-9e03-ce70b1ce81c9",
   "metadata": {},
   "source": [
    "### lower() :\n",
    "        converts the string into lowercase\n",
    "        symbols and numbers are ignored"
   ]
  },
  {
   "cell_type": "code",
   "execution_count": 3,
   "id": "bf2cddc0-b8af-4025-a8c9-e77fd23945ad",
   "metadata": {},
   "outputs": [
    {
     "name": "stdout",
     "output_type": "stream",
     "text": [
      "python\n"
     ]
    }
   ],
   "source": [
    "a = \"Python\"\n",
    "print(a.lower())"
   ]
  },
  {
   "cell_type": "code",
   "execution_count": 4,
   "id": "15fba302-b30a-4520-9691-aad2d58a377c",
   "metadata": {},
   "outputs": [
    {
     "name": "stdout",
     "output_type": "stream",
     "text": [
      "pavithra\n"
     ]
    }
   ],
   "source": [
    "b = \"PAVITHRA\"\n",
    "print(b.lower())"
   ]
  },
  {
   "cell_type": "code",
   "execution_count": 6,
   "id": "08c910ac-0eb9-4570-9be0-3f1062c1d0ba",
   "metadata": {},
   "outputs": [
    {
     "name": "stdout",
     "output_type": "stream",
     "text": [
      "python 3.6\n"
     ]
    }
   ],
   "source": [
    "x = \"PYTHON 3.6\"\n",
    "print(x.lower())"
   ]
  },
  {
   "cell_type": "markdown",
   "id": "15504864-a4ef-4fab-bc94-360583cc1342",
   "metadata": {},
   "source": [
    "### upper()\n",
    "        converts the string into uppercase\n",
    "        symbols and numbers are ignored"
   ]
  },
  {
   "cell_type": "code",
   "execution_count": 7,
   "id": "3d00dab8-904e-4835-b548-fcf01a89b34a",
   "metadata": {},
   "outputs": [
    {
     "name": "stdout",
     "output_type": "stream",
     "text": [
      "MCA\n"
     ]
    }
   ],
   "source": [
    "a = \"mca\"\n",
    "print(a.upper())"
   ]
  },
  {
   "cell_type": "markdown",
   "id": "edf84406-0e6c-49bf-9fed-271e133112cc",
   "metadata": {},
   "source": [
    "b = \"Welcome to Python Program\"\n",
    "print(b.upper())"
   ]
  },
  {
   "cell_type": "markdown",
   "id": "fba25d19-d0af-4ead-980e-392ce66f7a4e",
   "metadata": {},
   "source": [
    "### capitalize()\n",
    "        converts the first character to uppercase"
   ]
  },
  {
   "cell_type": "code",
   "execution_count": 9,
   "id": "3b51b62b-8bb7-45f8-a205-763c1c8f67df",
   "metadata": {},
   "outputs": [
    {
     "name": "stdout",
     "output_type": "stream",
     "text": [
      "Banana is my favorite fruit\n"
     ]
    }
   ],
   "source": [
    "x  = \"banana is my favorite fruit\"\n",
    "print(x.capitalize())"
   ]
  },
  {
   "cell_type": "markdown",
   "id": "3e9202cf-18e5-4c25-ad92-2050b6764411",
   "metadata": {},
   "source": [
    "### casefold()\n",
    "        converts string into lowercase\n",
    "        casefold() is similar to lower() but it is stronger, because it converts more characters into lowecase "
   ]
  },
  {
   "cell_type": "code",
   "execution_count": 1,
   "id": "120d153e-5ce5-4ba1-a1ac-2b5b224e791c",
   "metadata": {},
   "outputs": [
    {
     "name": "stdout",
     "output_type": "stream",
     "text": [
      "banana is my favorite fruit\n"
     ]
    }
   ],
   "source": [
    "x  = \"Banana is My Favorite Fruit\"\n",
    "print(x.casefold())"
   ]
  },
  {
   "cell_type": "markdown",
   "id": "f2055abb-fd91-41d7-8b0d-df44d0a69a33",
   "metadata": {},
   "source": [
    "### center()\n",
    "        return the centered string\n",
    "##### syntax\n",
    "        string.center(length,character\n",
    "        \n",
    "            length - required(length to return string)\n",
    "            character - optional(to fill the missing space)"
   ]
  },
  {
   "cell_type": "code",
   "execution_count": 13,
   "id": "1c662401-ce30-484f-a84d-fe1b1a191682",
   "metadata": {},
   "outputs": [
    {
     "name": "stdout",
     "output_type": "stream",
     "text": [
      "                                     Python Programming is fun!                                     \n"
     ]
    }
   ],
   "source": [
    "txt = \"Python Programming is fun!\"\n",
    "x = txt.center(100)\n",
    "print(x)"
   ]
  },
  {
   "cell_type": "code",
   "execution_count": 14,
   "id": "97097fef-ca38-4463-bd10-53bddb96edfb",
   "metadata": {},
   "outputs": [
    {
     "name": "stdout",
     "output_type": "stream",
     "text": [
      "**************************************************Python Programming is fun!*************************************************\n"
     ]
    }
   ],
   "source": [
    "txt = \"Python Programming is fun!\"\n",
    "x = txt.center(125,'*')\n",
    "print(x)"
   ]
  },
  {
   "cell_type": "code",
   "execution_count": 8,
   "id": "7e379890-473a-4c78-add6-75ddee5f51de",
   "metadata": {},
   "outputs": [
    {
     "name": "stdout",
     "output_type": "stream",
     "text": [
      "zzzzzzzzzzzzPython Programming is fun!zzzzzzzzzzzz\n"
     ]
    }
   ],
   "source": [
    "txt = \"Python Programming is fun!\"\n",
    "x = txt.center(50,'z')\n",
    "print(x)"
   ]
  },
  {
   "cell_type": "markdown",
   "id": "12bf5888-ea86-427c-97e0-aee999c765c9",
   "metadata": {},
   "source": [
    "### count()\n",
    "        returns the number of times specific value is occured\n",
    "##### syntax\n",
    "        string.count(value,start,end)\n",
    "\n",
    "            value - the value to count(required)\n",
    "            start - starting position, default is 0(optional)\n",
    "            end - ending position(optional)"
   ]
  },
  {
   "cell_type": "code",
   "execution_count": 9,
   "id": "64eecad6-1752-4b6b-9664-2f427dc06c3a",
   "metadata": {},
   "outputs": [
    {
     "name": "stdout",
     "output_type": "stream",
     "text": [
      "2\n"
     ]
    }
   ],
   "source": [
    "txt = \"banana\"\n",
    "x = txt.count('n')\n",
    "print(x)"
   ]
  },
  {
   "cell_type": "code",
   "execution_count": 10,
   "id": "21273fb0-fa95-43c9-9253-59f616cc6211",
   "metadata": {},
   "outputs": [
    {
     "name": "stdout",
     "output_type": "stream",
     "text": [
      "2\n"
     ]
    }
   ],
   "source": [
    "txt = \"I love apple, apple are my favorite fruit\"\n",
    "x = txt.count(\"apple\")\n",
    "print(x)"
   ]
  },
  {
   "cell_type": "code",
   "execution_count": 11,
   "id": "f77a9909-72e6-4cee-81e9-6e8cf155f3ae",
   "metadata": {},
   "outputs": [
    {
     "name": "stdout",
     "output_type": "stream",
     "text": [
      "2\n"
     ]
    }
   ],
   "source": [
    "txt = \"I love apples, apple are my favorite fruit\"\n",
    "x = txt.count(\"apple\")\n",
    "print(x)"
   ]
  },
  {
   "cell_type": "code",
   "execution_count": 12,
   "id": "579c6d02-768d-4db2-ba89-9e60b1f447a9",
   "metadata": {},
   "outputs": [
    {
     "name": "stdout",
     "output_type": "stream",
     "text": [
      "1\n"
     ]
    }
   ],
   "source": [
    "txt = \"I love apple, apple are my favorite fruit\"\n",
    "x = txt.count(\"apple\",0,15)\n",
    "print(x)"
   ]
  },
  {
   "cell_type": "markdown",
   "id": "356ffaef-896f-44c3-9ca8-fa1ffe01096d",
   "metadata": {},
   "source": [
    "### index()\n",
    "        return the position of the specified value where it was found\n",
    "        finds the first occurrence of the specified value\n",
    "        gives exception if the value was not found\n",
    "##### syntax\n",
    "        string.index(value,start,end)\n",
    "\n",
    "            value - value to search\n",
    "            start - starting point\n",
    "            end - stopping point"
   ]
  },
  {
   "cell_type": "code",
   "execution_count": 20,
   "id": "a1145714-3090-43fa-a4db-ecf13ab7d04b",
   "metadata": {},
   "outputs": [
    {
     "name": "stdout",
     "output_type": "stream",
     "text": [
      "0\n"
     ]
    }
   ],
   "source": [
    "txt = \"banana\"\n",
    "x = txt.index('b')\n",
    "print(x)"
   ]
  },
  {
   "cell_type": "code",
   "execution_count": 17,
   "id": "a09f44a6-ba53-4c23-9ee3-4498e9ae45d3",
   "metadata": {},
   "outputs": [
    {
     "name": "stdout",
     "output_type": "stream",
     "text": [
      "7\n"
     ]
    }
   ],
   "source": [
    "txt = \"I love apple, apple are my favorite fruit\"\n",
    "x = txt.index(\"apple\")\n",
    "print(x)"
   ]
  },
  {
   "cell_type": "code",
   "execution_count": 21,
   "id": "a92fa1ff-5de3-4baf-8ffb-639ed4aea228",
   "metadata": {},
   "outputs": [
    {
     "name": "stdout",
     "output_type": "stream",
     "text": [
      "14\n"
     ]
    }
   ],
   "source": [
    "txt = \"I love apple, apple are my favorite fruit\"\n",
    "x = txt.index(\"apple\",13,30)\n",
    "print(x)"
   ]
  },
  {
   "cell_type": "code",
   "execution_count": 23,
   "id": "75bb41fc-1f9f-4841-8bc5-df7901030986",
   "metadata": {},
   "outputs": [
    {
     "ename": "ValueError",
     "evalue": "substring not found",
     "output_type": "error",
     "traceback": [
      "\u001b[1;31m---------------------------------------------------------------------------\u001b[0m",
      "\u001b[1;31mValueError\u001b[0m                                Traceback (most recent call last)",
      "Cell \u001b[1;32mIn[23], line 3\u001b[0m\n\u001b[0;32m      1\u001b[0m \u001b[38;5;66;03m#raises exception if the value was not found\u001b[39;00m\n\u001b[0;32m      2\u001b[0m txt \u001b[38;5;241m=\u001b[39m \u001b[38;5;124m\"\u001b[39m\u001b[38;5;124mI love apple, apple are my favorite fruit\u001b[39m\u001b[38;5;124m\"\u001b[39m\n\u001b[1;32m----> 3\u001b[0m x \u001b[38;5;241m=\u001b[39m txt\u001b[38;5;241m.\u001b[39mindex(\u001b[38;5;124m\"\u001b[39m\u001b[38;5;124mguava\u001b[39m\u001b[38;5;124m\"\u001b[39m)\n\u001b[0;32m      4\u001b[0m \u001b[38;5;28mprint\u001b[39m(x)\n",
      "\u001b[1;31mValueError\u001b[0m: substring not found"
     ]
    }
   ],
   "source": [
    "#raises exception if the value was not found\n",
    "txt = \"I love apple, apple are my favorite fruit\"\n",
    "x = txt.index(\"guava\")\n",
    "print(x)"
   ]
  },
  {
   "cell_type": "markdown",
   "id": "a9702446-de1d-405e-8b1e-83a0232cd6da",
   "metadata": {},
   "source": [
    "### find()\n",
    "        return the position of the specified value where it was found\n",
    "        finds the first occurrence of the specified value\n",
    "        returns -1 if the value was not found\n",
    "        this method is similar to the index() method, this method returns -1 if the value was not found, but index() returns exception\n",
    "##### syntax\n",
    "        string.index(value,start,end)\n",
    "\n",
    "            value - value to search\n",
    "            start - starting point\n",
    "            end - stopping point"
   ]
  },
  {
   "cell_type": "code",
   "execution_count": 1,
   "id": "cf8c8606-9898-4e3c-9177-e59e86f86c3e",
   "metadata": {},
   "outputs": [
    {
     "name": "stdout",
     "output_type": "stream",
     "text": [
      "0\n"
     ]
    }
   ],
   "source": [
    "txt = \"banana\"\n",
    "x = txt.find('b')\n",
    "print(x)"
   ]
  },
  {
   "cell_type": "code",
   "execution_count": 3,
   "id": "a985d183-cb73-4a43-b4d6-8aed2a7d5e82",
   "metadata": {},
   "outputs": [
    {
     "name": "stdout",
     "output_type": "stream",
     "text": [
      "24\n"
     ]
    }
   ],
   "source": [
    "txt = \"I love apple, apple are my favorite fruit\"\n",
    "x = txt.find(\"m\")\n",
    "print(x)"
   ]
  },
  {
   "cell_type": "code",
   "execution_count": 5,
   "id": "709eeace-7f52-4bb8-835b-03a128e4c528",
   "metadata": {},
   "outputs": [
    {
     "name": "stdout",
     "output_type": "stream",
     "text": [
      "-1\n"
     ]
    }
   ],
   "source": [
    "#raises -1 if the value was not found\n",
    "txt = \"I love apple, apple are my favorite fruit\"\n",
    "x = txt.find(\"blueberry\")\n",
    "print(x)"
   ]
  },
  {
   "cell_type": "markdown",
   "id": "3e73f065-30fa-45c7-9340-8af78bd86e0a",
   "metadata": {},
   "source": [
    "### replace()\n",
    "        used to replace one string with another string\n",
    "##### syntax\n",
    "        string.replace(old_value,new_value,count)\n",
    "\n",
    "            count - we can specify how many occurrences of old value to reolace, default is all occurrences"
   ]
  },
  {
   "cell_type": "code",
   "execution_count": 6,
   "id": "fec20aea-c959-4915-aae7-25eae3b2258c",
   "metadata": {},
   "outputs": [
    {
     "name": "stdout",
     "output_type": "stream",
     "text": [
      "I like cow\n"
     ]
    }
   ],
   "source": [
    "x = \"I like cat\"\n",
    "print(x.replace(\"cat\",\"cow\"))"
   ]
  },
  {
   "cell_type": "code",
   "execution_count": 11,
   "id": "7a05620d-1442-4213-8da2-c1d0a31d7b7c",
   "metadata": {},
   "outputs": [
    {
     "name": "stdout",
     "output_type": "stream",
     "text": [
      "four four was a race horse, two two was four too\n"
     ]
    }
   ],
   "source": [
    "#default occurrences\n",
    "x = \"one one was a race horse, two two was one too\"\n",
    "print(x.replace(\"one\",\"four\"))"
   ]
  },
  {
   "cell_type": "code",
   "execution_count": 12,
   "id": "b68d8d98-995e-4b17-9e98-fa85b35f6772",
   "metadata": {},
   "outputs": [
    {
     "name": "stdout",
     "output_type": "stream",
     "text": [
      "four four was a race horse, two two was one too\n"
     ]
    }
   ],
   "source": [
    "#specifying count\n",
    "x = \"one one was a race horse, two two was one too\"\n",
    "print(x.replace(\"one\",\"four\",2))"
   ]
  },
  {
   "cell_type": "markdown",
   "id": "2bae9e95-44e2-4cb0-aa3a-d66f463cd81a",
   "metadata": {},
   "source": [
    "### strip()\n",
    "        removes whitespace at the beginning or end"
   ]
  },
  {
   "cell_type": "code",
   "execution_count": 13,
   "id": "1ec461f6-7fba-4fdd-835e-b7dfb4990245",
   "metadata": {},
   "outputs": [
    {
     "name": "stdout",
     "output_type": "stream",
     "text": [
      "Python Programming\n"
     ]
    }
   ],
   "source": [
    "a = \"  Python Programming  \"\n",
    "print(a.strip())"
   ]
  },
  {
   "cell_type": "markdown",
   "id": "88540b92-18b4-46eb-80de-ae92ca342bdb",
   "metadata": {},
   "source": [
    "### split()\n",
    "        used to split the string into list of substrings based on a specified delimeter\n",
    "        If no delimeter is specified, it splits by whitespace by dafault\n",
    "##### syntax\n",
    "        string.split(seperator,maxsplit)\n",
    "\n",
    "            seperator - delimeter to split\n",
    "            maxsplit - specifies the no of splits, default is -1(which means all occurrences) "
   ]
  },
  {
   "cell_type": "code",
   "execution_count": 4,
   "id": "d52777d8-9564-4aaa-baaf-2525e5073ea7",
   "metadata": {},
   "outputs": [
    {
     "name": "stdout",
     "output_type": "stream",
     "text": [
      "['python', 'program']\n"
     ]
    }
   ],
   "source": [
    "#split by whitespace\n",
    "x = \"python program\"\n",
    "print(x.split())"
   ]
  },
  {
   "cell_type": "code",
   "execution_count": 12,
   "id": "82bfabda-ab10-4a4b-8267-cdbe0e94106a",
   "metadata": {},
   "outputs": [
    {
     "name": "stdout",
     "output_type": "stream",
     "text": [
      "['c', 'c++', 'python', 'java']\n"
     ]
    }
   ],
   "source": [
    "#split by a specific delimeter(,)\n",
    "x = \"c,c++,python,java\"\n",
    "print(x.split(\",\"))"
   ]
  },
  {
   "cell_type": "code",
   "execution_count": 14,
   "id": "a3904eab-a4d1-4baa-99a6-f57a046d7538",
   "metadata": {},
   "outputs": [
    {
     "name": "stdout",
     "output_type": "stream",
     "text": [
      "['one', 'one', 'was', 'a', 'race', 'horse', 'two two was one too']\n"
     ]
    }
   ],
   "source": [
    "#using maxsplit\n",
    "x = \"one one was a race horse two two was one too\"\n",
    "print(x.split(\" \",6))"
   ]
  },
  {
   "cell_type": "code",
   "execution_count": 17,
   "id": "c951c54c-7b2e-44f9-88ce-286754a35eeb",
   "metadata": {},
   "outputs": [
    {
     "name": "stdout",
     "output_type": "stream",
     "text": [
      "['pav', 'thra']\n"
     ]
    }
   ],
   "source": [
    "#splitting by specific character\n",
    "a = \"pavithra\"\n",
    "print(a.split(\"i\"))"
   ]
  },
  {
   "cell_type": "markdown",
   "id": "a2c12599-06ed-4d53-b190-94aa322e0560",
   "metadata": {},
   "source": [
    "### join()\n",
    "        used to concatenate elements of an iterable(list,tuple,set) into a single string\n",
    "        string must be specified as the seperator\n",
    "        the elements must be string, otherwise we need to convert them into string\n",
    "##### syntax\n",
    "        string(seperator).join(iterable)\n",
    "            seperator - required, a string used as a delimiter between elements\n",
    "            iterable - required, collectin of string(tuple,set,list)"
   ]
  },
  {
   "cell_type": "code",
   "execution_count": 18,
   "id": "3ed2a7e3-e30e-484b-934c-8d6d4a8fd0a5",
   "metadata": {},
   "outputs": [
    {
     "name": "stdout",
     "output_type": "stream",
     "text": [
      "pavi*kavya*tamiz\n"
     ]
    }
   ],
   "source": [
    "#list\n",
    "txt = ['pavi','kavya','tamiz']\n",
    "print(\"*\".join(txt))"
   ]
  },
  {
   "cell_type": "code",
   "execution_count": 25,
   "id": "b801cf95-ed2f-447e-8633-65b5b5a297f9",
   "metadata": {},
   "outputs": [
    {
     "name": "stdout",
     "output_type": "stream",
     "text": [
      "p y t h o n   p r o g r a m\n"
     ]
    }
   ],
   "source": [
    "#tuple\n",
    "tuple = (\"python program\")\n",
    "print(\" \".join(tuple))"
   ]
  },
  {
   "cell_type": "code",
   "execution_count": 23,
   "id": "c082fd4f-98a2-4119-954a-eb9871984aed",
   "metadata": {},
   "outputs": [
    {
     "name": "stdout",
     "output_type": "stream",
     "text": [
      "(^p^y^t^h^o^n^)\n"
     ]
    }
   ],
   "source": [
    "#tuple\n",
    "tuple = \"(python)\"\n",
    "print(\"^\".join(tuple))"
   ]
  },
  {
   "cell_type": "code",
   "execution_count": 26,
   "id": "a6a9ebde-5b2d-4440-970a-3dbebeb90232",
   "metadata": {},
   "outputs": [
    {
     "name": "stdout",
     "output_type": "stream",
     "text": [
      "p#a#v#i#t#h#r#a\n"
     ]
    }
   ],
   "source": [
    "letters = ['p','a','v','i','t','h','r','a']\n",
    "print(\"#\".join(letters))"
   ]
  },
  {
   "cell_type": "code",
   "execution_count": 28,
   "id": "0688ef39-cc6f-43b4-b239-cb6c5530841b",
   "metadata": {},
   "outputs": [
    {
     "name": "stdout",
     "output_type": "stream",
     "text": [
      "p_name_a_name_v_name_i_name_t_name_h_name_r_name_a\n"
     ]
    }
   ],
   "source": [
    "letters = ['p','a','v','i','t','h','r','a']\n",
    "print(\"_name_\".join(letters))"
   ]
  },
  {
   "cell_type": "code",
   "execution_count": 30,
   "id": "3f323ea2-7cfb-4f49-acdb-fb3a816b57b3",
   "metadata": {},
   "outputs": [
    {
     "name": "stdout",
     "output_type": "stream",
     "text": [
      "1$2$3$4\n"
     ]
    }
   ],
   "source": [
    "#element cannot be int, we need to convert them into string\n",
    "dict = {1:'p',2:'a',3:'v',4:'i'}\n",
    "print(\"$\".join(map(str,dict)))"
   ]
  },
  {
   "cell_type": "markdown",
   "id": "567ec18a-d4d3-4bbd-aae2-230f56c634b6",
   "metadata": {},
   "source": [
    "### format()\n",
    "        used to format the specified value\n",
    "        placeholder{} is specified in astring with value to format\n",
    "        placeholder can be named indexes{age}, numbered indexes{10} or empty indexes{}\n",
    "##### syntax\n",
    "        string.format(value1,value2,...)\n",
    "            values - it can be any datatype"
   ]
  },
  {
   "cell_type": "code",
   "execution_count": 32,
   "id": "35ea704a-0808-4529-89e0-86a80ebec303",
   "metadata": {},
   "outputs": [
    {
     "name": "stdout",
     "output_type": "stream",
     "text": [
      "My name is Pavithra, I'm 20\n"
     ]
    }
   ],
   "source": [
    "#named indexes\n",
    "x = \"My name is {name}, I'm {age}\".format(name=\"Pavithra\",age=20)\n",
    "print(x)"
   ]
  },
  {
   "cell_type": "code",
   "execution_count": 36,
   "id": "558bd8e0-98f7-4005-9415-454be31646df",
   "metadata": {},
   "outputs": [
    {
     "name": "stdout",
     "output_type": "stream",
     "text": [
      "My name is Pavithra, I'm 20\n"
     ]
    }
   ],
   "source": [
    "#numbered indexes\n",
    "x = \"My name is {0}, I'm {1}\".format(\"Pavithra\",20)\n",
    "print(x)"
   ]
  },
  {
   "cell_type": "code",
   "execution_count": 37,
   "id": "dd7f96c2-af36-4026-99ba-bbf7fb542695",
   "metadata": {},
   "outputs": [
    {
     "name": "stdout",
     "output_type": "stream",
     "text": [
      "My name is Pavithra, I'm 20\n"
     ]
    }
   ],
   "source": [
    "#empty indexes\n",
    "x = \"My name is {}, I'm {}\".format(\"Pavithra\",20)\n",
    "print(x)"
   ]
  },
  {
   "cell_type": "markdown",
   "id": "d9f98d4e-24ba-49f8-85c0-bc80b8904d37",
   "metadata": {},
   "source": [
    "### format_map\n",
    "        formats the string using dictionary key values\n",
    "##### syntax\n",
    "        string.format_map(z)\n",
    "            z - it is a variable in which the dictionary values is stored"
   ]
  },
  {
   "cell_type": "code",
   "execution_count": 42,
   "id": "929f0315-b91c-445a-9e34-53736f0e60e9",
   "metadata": {},
   "outputs": [
    {
     "name": "stdout",
     "output_type": "stream",
     "text": [
      "I love apple, but i have orange\n"
     ]
    }
   ],
   "source": [
    "dict = {'a':\"apple\",'b':\"orange\"}\n",
    "print(\"I love {a}, but i have {b}\".format_map(dict))"
   ]
  },
  {
   "cell_type": "code",
   "execution_count": 48,
   "id": "53aa5b0c-db38-4b9f-8c51-91294a89bff9",
   "metadata": {},
   "outputs": [
    {
     "name": "stdout",
     "output_type": "stream",
     "text": [
      "I love apple, but i have orange\n"
     ]
    }
   ],
   "source": [
    "dict1 = {\"val1\":\"apple\",\"val2\":\"orange\"}\n",
    "print(\"I love {val1}, but i have {val2}\".format_map(dict1))"
   ]
  },
  {
   "cell_type": "markdown",
   "id": "4814148e-2e67-4319-b4ab-9aef638e7f67",
   "metadata": {},
   "source": [
    "### isalnum()\n",
    "        returns true if all the characters in the string contains alphanumeric, alphabets(a-z) and numbers(0-9)"
   ]
  },
  {
   "cell_type": "code",
   "execution_count": 49,
   "id": "93386306-dc97-48af-90ef-fb8849ab1819",
   "metadata": {},
   "outputs": [
    {
     "name": "stdout",
     "output_type": "stream",
     "text": [
      "True\n"
     ]
    }
   ],
   "source": [
    "a = \"pavi2001\"\n",
    "print(a.isalnum())"
   ]
  },
  {
   "cell_type": "code",
   "execution_count": 56,
   "id": "3558e768-9632-4da7-a8d7-3de84ac2c18b",
   "metadata": {},
   "outputs": [
    {
     "name": "stdout",
     "output_type": "stream",
     "text": [
      "True\n"
     ]
    }
   ],
   "source": [
    "b = \"python\"\n",
    "print(b.isalnum())"
   ]
  },
  {
   "cell_type": "code",
   "execution_count": 51,
   "id": "948f010c-f804-4612-8b4d-4796f979a150",
   "metadata": {},
   "outputs": [
    {
     "name": "stdout",
     "output_type": "stream",
     "text": [
      "True\n"
     ]
    }
   ],
   "source": [
    "x = \"16112024\"\n",
    "print(x.isalnum())"
   ]
  },
  {
   "cell_type": "code",
   "execution_count": 52,
   "id": "9870f4c5-3951-4881-97d3-94fca00dcca8",
   "metadata": {},
   "outputs": [
    {
     "name": "stdout",
     "output_type": "stream",
     "text": [
      "False\n"
     ]
    }
   ],
   "source": [
    "y = \"pavi_2024\"\n",
    "print(y.isalnum())"
   ]
  },
  {
   "cell_type": "markdown",
   "id": "1c249202-ffbf-4cb9-b31a-bde9f072089d",
   "metadata": {},
   "source": [
    "### isalpha()\n",
    "        returns true if all the characters in the string contains alphabets(a-z)"
   ]
  },
  {
   "cell_type": "code",
   "execution_count": 53,
   "id": "01631f56-8497-454c-8474-43297907625b",
   "metadata": {},
   "outputs": [
    {
     "name": "stdout",
     "output_type": "stream",
     "text": [
      "False\n"
     ]
    }
   ],
   "source": [
    "a = \"pavi2001\"\n",
    "print(a.isalpha())"
   ]
  },
  {
   "cell_type": "code",
   "execution_count": 57,
   "id": "00dc3155-4de4-4327-92ae-c7bdbc629c29",
   "metadata": {},
   "outputs": [
    {
     "name": "stdout",
     "output_type": "stream",
     "text": [
      "True\n"
     ]
    }
   ],
   "source": [
    "b = \"python\"\n",
    "print(b.isalpha())"
   ]
  },
  {
   "cell_type": "code",
   "execution_count": 55,
   "id": "2a38f07f-878f-4f32-91e1-9e8afcc6a8ba",
   "metadata": {},
   "outputs": [
    {
     "name": "stdout",
     "output_type": "stream",
     "text": [
      "False\n"
     ]
    }
   ],
   "source": [
    "x = \"16112024\"\n",
    "print(x.isalpha())"
   ]
  },
  {
   "cell_type": "markdown",
   "id": "b43fc696-6b47-4c79-be11-471b94ce6099",
   "metadata": {},
   "source": [
    "### isascii()\n",
    "        checks all the characters in the string are ascii characters(character range from 0 to 127)\n",
    "        returns true if all the characters in the string are ascii characters(a-z)"
   ]
  },
  {
   "cell_type": "code",
   "execution_count": 58,
   "id": "ee8f2081-9874-4635-9041-224855df0c19",
   "metadata": {},
   "outputs": [
    {
     "name": "stdout",
     "output_type": "stream",
     "text": [
      "True\n"
     ]
    }
   ],
   "source": [
    "x = \"pavithra\"\n",
    "print(x.isascii())"
   ]
  },
  {
   "cell_type": "code",
   "execution_count": 62,
   "id": "8c96ba89-de8a-4cf7-ae12-d94fccf1924a",
   "metadata": {},
   "outputs": [
    {
     "name": "stdout",
     "output_type": "stream",
     "text": [
      "True\n"
     ]
    }
   ],
   "source": [
    "a = \"456789\"\n",
    "print(a.isascii())"
   ]
  },
  {
   "cell_type": "markdown",
   "id": "c8f678ad-8a9f-4260-8c6a-cb18db1f28f2",
   "metadata": {},
   "source": [
    "### isdecimal()\n",
    "        returns true if all the characters in the string are decimal(0-9)"
   ]
  },
  {
   "cell_type": "code",
   "execution_count": 63,
   "id": "e693c8bf-5ae6-4920-bbf8-fcfd4088f4d6",
   "metadata": {},
   "outputs": [
    {
     "name": "stdout",
     "output_type": "stream",
     "text": [
      "True\n"
     ]
    }
   ],
   "source": [
    "a = \"456789\"\n",
    "print(a.isdecimal())"
   ]
  },
  {
   "cell_type": "code",
   "execution_count": 64,
   "id": "b0e092f6-7925-4734-aafb-db3364a26ac9",
   "metadata": {},
   "outputs": [
    {
     "name": "stdout",
     "output_type": "stream",
     "text": [
      "False\n"
     ]
    }
   ],
   "source": [
    "a = \"pavi2001\"\n",
    "print(a.isdecimal())"
   ]
  },
  {
   "cell_type": "code",
   "execution_count": 68,
   "id": "1a23d369-919c-4a30-8af2-debca34fab37",
   "metadata": {},
   "outputs": [
    {
     "name": "stdout",
     "output_type": "stream",
     "text": [
      "True\n"
     ]
    }
   ],
   "source": [
    "x = \"\\u0030\"  #unicode for 0\n",
    "print(x.isdecimal())"
   ]
  },
  {
   "cell_type": "code",
   "execution_count": 69,
   "id": "79a7c01a-462c-41ae-ac00-cd932c2b0b39",
   "metadata": {},
   "outputs": [
    {
     "name": "stdout",
     "output_type": "stream",
     "text": [
      "False\n"
     ]
    }
   ],
   "source": [
    "#return false because it is an unicode for character\n",
    "x = \"\\u0047\"  #unicode for G\n",
    "print(x.isdecimal())"
   ]
  },
  {
   "cell_type": "code",
   "execution_count": 71,
   "id": "212dd0cb-9a7a-4a13-bab2-8088f2be2add",
   "metadata": {},
   "outputs": [
    {
     "name": "stdout",
     "output_type": "stream",
     "text": [
      "False\n"
     ]
    }
   ],
   "source": [
    "a = \"4567.89\"  #return false because it contains dot(.)\n",
    "print(a.isdecimal())"
   ]
  },
  {
   "cell_type": "markdown",
   "id": "f956f17f-f2ba-45c3-a7df-5db8d8876c0e",
   "metadata": {},
   "source": [
    "### isdigit()\n",
    "        returns true if all the characters in the string contains digit\n",
    "        exponents like square are also considered as digit"
   ]
  },
  {
   "cell_type": "code",
   "execution_count": 72,
   "id": "29e7777d-d1b7-4cee-b503-d175d6eb2f96",
   "metadata": {},
   "outputs": [
    {
     "name": "stdout",
     "output_type": "stream",
     "text": [
      "True\n"
     ]
    }
   ],
   "source": [
    "a = \"456789\"\n",
    "print(a.isdigit())"
   ]
  },
  {
   "cell_type": "code",
   "execution_count": 73,
   "id": "78b0f610-b494-45b8-9694-acb43cb5246a",
   "metadata": {},
   "outputs": [
    {
     "name": "stdout",
     "output_type": "stream",
     "text": [
      "False\n"
     ]
    }
   ],
   "source": [
    "a = \"4567.89\"\n",
    "print(a.isdigit())"
   ]
  },
  {
   "cell_type": "code",
   "execution_count": 74,
   "id": "f81e3b1e-ccbc-4a17-bfaa-750ce7489858",
   "metadata": {},
   "outputs": [
    {
     "name": "stdout",
     "output_type": "stream",
     "text": [
      "True\n"
     ]
    }
   ],
   "source": [
    "x = \"\\u0030\"  #unicode for 0\n",
    "print(x.isdigit())"
   ]
  },
  {
   "cell_type": "code",
   "execution_count": 75,
   "id": "8451dc78-21b4-4216-8822-6924a9d19e01",
   "metadata": {},
   "outputs": [
    {
     "name": "stdout",
     "output_type": "stream",
     "text": [
      "True\n"
     ]
    }
   ],
   "source": [
    "y = \"\\u00B2\"  # unicode for 2(square)\n",
    "print(y.isdigit())"
   ]
  },
  {
   "cell_type": "markdown",
   "id": "6da0683d-1161-4a02-9e30-55bf3ed834b9",
   "metadata": {},
   "source": [
    "### isnumeric\n",
    "        return true if all the characters in the string are numeric\n",
    "        3/4 and 2(square) are consiered as numeric\n",
    "        1.5 and -5 numbers like these are not considered as numeric because it had . and -"
   ]
  },
  {
   "cell_type": "code",
   "execution_count": 82,
   "id": "c8548107-1a85-44a2-be82-7a4635a10c90",
   "metadata": {},
   "outputs": [
    {
     "name": "stdout",
     "output_type": "stream",
     "text": [
      "True\n"
     ]
    }
   ],
   "source": [
    "a = \"456789\"\n",
    "print(a.isnumeric())"
   ]
  },
  {
   "cell_type": "code",
   "execution_count": 83,
   "id": "f09b2241-d2c0-484e-86ea-0bfcc0541006",
   "metadata": {},
   "outputs": [
    {
     "name": "stdout",
     "output_type": "stream",
     "text": [
      "False\n"
     ]
    }
   ],
   "source": [
    "a = \"4567.89\"\n",
    "print(a.isnumeric())"
   ]
  },
  {
   "cell_type": "code",
   "execution_count": 84,
   "id": "76d40c33-1513-46cf-aa25-118608ba92f0",
   "metadata": {},
   "outputs": [
    {
     "name": "stdout",
     "output_type": "stream",
     "text": [
      "False\n"
     ]
    }
   ],
   "source": [
    "a = \"-70\"\n",
    "print(a.isnumeric())"
   ]
  },
  {
   "cell_type": "code",
   "execution_count": 86,
   "id": "1d53a21b-bb24-40be-9292-02e17c894418",
   "metadata": {},
   "outputs": [
    {
     "name": "stdout",
     "output_type": "stream",
     "text": [
      "False\n"
     ]
    }
   ],
   "source": [
    "x = \"10km2\"\n",
    "print(x.isnumeric())"
   ]
  },
  {
   "cell_type": "markdown",
   "id": "c9f747b1-17e5-49c0-9ed6-c41c5ce8281d",
   "metadata": {},
   "source": [
    "### islower()\n",
    "        returns true if all the characters in the string are lowercase\n",
    "        numbers, symbols and spaces are ignored"
   ]
  },
  {
   "cell_type": "code",
   "execution_count": 77,
   "id": "a79f7dbd-a062-4690-98b2-12da9484d1cd",
   "metadata": {},
   "outputs": [
    {
     "name": "stdout",
     "output_type": "stream",
     "text": [
      "False\n"
     ]
    }
   ],
   "source": [
    "a = \"I love python\"\n",
    "print(a.islower())"
   ]
  },
  {
   "cell_type": "code",
   "execution_count": 78,
   "id": "b6fc3b70-a493-4eb9-9272-f26481c7ea4e",
   "metadata": {},
   "outputs": [
    {
     "name": "stdout",
     "output_type": "stream",
     "text": [
      "True\n"
     ]
    }
   ],
   "source": [
    "b = \"python is a high level language\"\n",
    "print(b.islower())"
   ]
  },
  {
   "cell_type": "code",
   "execution_count": 79,
   "id": "c08fb80d-0d84-42e1-b11b-74f2278a29f9",
   "metadata": {},
   "outputs": [
    {
     "name": "stdout",
     "output_type": "stream",
     "text": [
      "True\n"
     ]
    }
   ],
   "source": [
    "x = \"pavi_2024\"\n",
    "print(x.islower())"
   ]
  },
  {
   "cell_type": "markdown",
   "id": "2a33a334-0168-4d0b-b837-423dc5daeca9",
   "metadata": {},
   "source": [
    "### isupper()\n",
    "        returns true if all the characters in the string are in uppercase\n",
    "        symbols, numbers and spaces are ignored"
   ]
  },
  {
   "cell_type": "code",
   "execution_count": 80,
   "id": "6c316b2f-716c-45db-8801-a0ab616c463a",
   "metadata": {},
   "outputs": [
    {
     "name": "stdout",
     "output_type": "stream",
     "text": [
      "True\n"
     ]
    }
   ],
   "source": [
    "x = \"PYTHON\"\n",
    "print(x.isupper())"
   ]
  },
  {
   "cell_type": "code",
   "execution_count": 81,
   "id": "16a1511b-693b-49c0-8875-f91bd554cdd8",
   "metadata": {},
   "outputs": [
    {
     "name": "stdout",
     "output_type": "stream",
     "text": [
      "False\n"
     ]
    }
   ],
   "source": [
    "a = \"I love python\"\n",
    "print(a.isupper())"
   ]
  },
  {
   "cell_type": "markdown",
   "id": "9fad5d06-e4a7-438a-bf8f-f707f0ee6a1c",
   "metadata": {},
   "source": [
    "### isspace()\n",
    "        returns true if all the characters in the string are whitespace "
   ]
  },
  {
   "cell_type": "code",
   "execution_count": 87,
   "id": "907bc751-3533-40cc-9cdf-45cf61bd3ab8",
   "metadata": {},
   "outputs": [
    {
     "name": "stdout",
     "output_type": "stream",
     "text": [
      "True\n"
     ]
    }
   ],
   "source": [
    "a = \"    \"\n",
    "print(a.isspace())"
   ]
  },
  {
   "cell_type": "code",
   "execution_count": 88,
   "id": "5c362f9d-6607-4816-8db8-ad3f236d1f81",
   "metadata": {},
   "outputs": [
    {
     "name": "stdout",
     "output_type": "stream",
     "text": [
      "False\n"
     ]
    }
   ],
   "source": [
    "x = \"python\"\n",
    "print(x.isspace())"
   ]
  },
  {
   "cell_type": "code",
   "execution_count": 89,
   "id": "c25caa37-2c09-4d06-b165-79048dfaae70",
   "metadata": {},
   "outputs": [
    {
     "name": "stdout",
     "output_type": "stream",
     "text": [
      "False\n"
     ]
    }
   ],
   "source": [
    "v = \"Pavithra N\"\n",
    "print(v.isspace())"
   ]
  },
  {
   "cell_type": "code",
   "execution_count": 90,
   "id": "55b258c5-d322-4f06-87de-6584f871a04c",
   "metadata": {},
   "outputs": [
    {
     "name": "stdout",
     "output_type": "stream",
     "text": [
      "False\n"
     ]
    }
   ],
   "source": [
    "r = \"      N      \"\n",
    "print(r.isspace())"
   ]
  },
  {
   "cell_type": "code",
   "execution_count": 91,
   "id": "123c87a6-7f43-4708-af59-a4050644b816",
   "metadata": {},
   "outputs": [
    {
     "name": "stdout",
     "output_type": "stream",
     "text": [
      "False\n"
     ]
    }
   ],
   "source": [
    "b = \"Hello    \"\n",
    "print(b.isspace())"
   ]
  }
 ],
 "metadata": {
  "kernelspec": {
   "display_name": "Python 3 (ipykernel)",
   "language": "python",
   "name": "python3"
  },
  "language_info": {
   "codemirror_mode": {
    "name": "ipython",
    "version": 3
   },
   "file_extension": ".py",
   "mimetype": "text/x-python",
   "name": "python",
   "nbconvert_exporter": "python",
   "pygments_lexer": "ipython3",
   "version": "3.12.7"
  }
 },
 "nbformat": 4,
 "nbformat_minor": 5
}
