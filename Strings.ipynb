{
 "cells": [
  {
   "cell_type": "markdown",
   "id": "e40cf833-ab86-4f80-983a-0a0b1798f23e",
   "metadata": {},
   "source": [
    "## STRINGS :\n",
    "    string is a group of characters enclosed with single, double or triple quotes.\n",
    "### Examples :"
   ]
  },
  {
   "cell_type": "code",
   "execution_count": 1,
   "id": "178c1c98-e305-42a5-81fe-f7f2033093a2",
   "metadata": {},
   "outputs": [
    {
     "name": "stdout",
     "output_type": "stream",
     "text": [
      "Hello\n",
      "Welcome\n",
      "Python\n",
      "Language\n"
     ]
    }
   ],
   "source": [
    "print('Hello')\n",
    "print(\"Welcome\")\n",
    "print('''Python''')\n",
    "print(\"\"\"Language\"\"\")"
   ]
  },
  {
   "cell_type": "code",
   "execution_count": 2,
   "id": "b570d4ba-e499-485f-90e1-be00e87dff2c",
   "metadata": {},
   "outputs": [
    {
     "name": "stdout",
     "output_type": "stream",
     "text": [
      "Pavithra\n",
      "<class 'str'>\n"
     ]
    }
   ],
   "source": [
    "x = \"Pavithra\"\n",
    "print(x)\n",
    "print(type(x))"
   ]
  },
  {
   "cell_type": "markdown",
   "id": "550de186-5403-4b0b-9014-8e4ff82f0b0e",
   "metadata": {},
   "source": [
    "### Quotes inside quotes :\n",
    "        we can use quotes inside a string"
   ]
  },
  {
   "cell_type": "code",
   "execution_count": 4,
   "id": "d9168ec8-9910-4953-8d87-09ae50216060",
   "metadata": {},
   "outputs": [
    {
     "name": "stdout",
     "output_type": "stream",
     "text": [
      "Hi, I'm Pavithra\n",
      "Welcome to 'Python' Language\n",
      "Welcome to \"Python\" Language\n"
     ]
    }
   ],
   "source": [
    "print(\"Hi, I'm Pavithra\")\n",
    "print(\"Welcome to 'Python' Language\")\n",
    "print('Welcome to \"Python\" Language')"
   ]
  },
  {
   "cell_type": "markdown",
   "id": "1ed5959e-fe08-477d-9f17-b73ba84602ed",
   "metadata": {},
   "source": [
    "### Multiline String :\n",
    "        we can assign a multiline string to a variable using triple quotes"
   ]
  },
  {
   "cell_type": "code",
   "execution_count": 6,
   "id": "4df818e8-2045-4aca-9f13-728bc0faf5f1",
   "metadata": {},
   "outputs": [
    {
     "name": "stdout",
     "output_type": "stream",
     "text": [
      "Welcome\n",
      "to\n",
      "Python\n",
      "Language\n"
     ]
    }
   ],
   "source": [
    "a = \"\"\"Welcome\n",
    "to\n",
    "Python\n",
    "Language\"\"\"\n",
    "print(a)"
   ]
  },
  {
   "cell_type": "code",
   "execution_count": 7,
   "id": "6db694bb-ec97-4fe9-8a7d-c1cdfc23df7a",
   "metadata": {},
   "outputs": [
    {
     "name": "stdout",
     "output_type": "stream",
     "text": [
      "Welcome\n",
      "to\n",
      "Python \n",
      "Language\n"
     ]
    }
   ],
   "source": [
    "b = '''Welcome\n",
    "to\n",
    "Python \n",
    "Language'''\n",
    "print(b)\n"
   ]
  },
  {
   "cell_type": "markdown",
   "id": "f5aa7c10-a637-413a-ae18-d996a4122735",
   "metadata": {},
   "source": [
    "### Strings are Arrays :\n",
    "        strings are arrays of bytes\n",
    "        \n",
    "        we can access the elememts of the string using the square brackets"
   ]
  },
  {
   "cell_type": "code",
   "execution_count": 8,
   "id": "7a3d0cb9-3816-4523-80a3-005a9b3bdc70",
   "metadata": {},
   "outputs": [
    {
     "name": "stdout",
     "output_type": "stream",
     "text": [
      "t\n"
     ]
    }
   ],
   "source": [
    "x = \"strings are arrays\"\n",
    "print(x[1])"
   ]
  },
  {
   "cell_type": "code",
   "execution_count": 9,
   "id": "70a6b0fa-9650-420f-81b5-1ba4fe210053",
   "metadata": {},
   "outputs": [
    {
     "name": "stdout",
     "output_type": "stream",
     "text": [
      "u\n"
     ]
    }
   ],
   "source": [
    "a = \"Python is a popular programming language\"\n",
    "print(a[15])"
   ]
  },
  {
   "cell_type": "markdown",
   "id": "fe7e2d10-1dc8-4027-909a-b08d403ec9b7",
   "metadata": {},
   "source": [
    "### Looping through a string :\n",
    "        we can loop through the characters in a string using the for loop"
   ]
  },
  {
   "cell_type": "code",
   "execution_count": 12,
   "id": "edd0c418-036a-42f0-ab15-c5a25731f2f9",
   "metadata": {},
   "outputs": [
    {
     "name": "stdout",
     "output_type": "stream",
     "text": [
      "p\n",
      "a\n",
      "v\n",
      "i\n",
      "t\n",
      "h\n",
      "r\n",
      "a\n"
     ]
    }
   ],
   "source": [
    "for x in \"pavithra\":\n",
    "    print(x)"
   ]
  },
  {
   "cell_type": "markdown",
   "id": "aa10662a-e8ff-4fa6-b367-9d2d853bbf1d",
   "metadata": {},
   "source": [
    "### String Length :\n",
    "        to find the length of the string we can use the len() function"
   ]
  },
  {
   "cell_type": "code",
   "execution_count": 13,
   "id": "7b229fd4-d7df-4eb2-abd1-cf2d08b06d7b",
   "metadata": {},
   "outputs": [
    {
     "name": "stdout",
     "output_type": "stream",
     "text": [
      "8\n"
     ]
    }
   ],
   "source": [
    "a = \"Pavithra\"\n",
    "print(len(a))"
   ]
  },
  {
   "cell_type": "markdown",
   "id": "f407a544-3633-4e16-96f9-b9d6ebc10f26",
   "metadata": {},
   "source": [
    "### STRING CONCATENATION :\n",
    "        to concatenate or combine to strings we can use the + operator"
   ]
  },
  {
   "cell_type": "code",
   "execution_count": 16,
   "id": "f0ce1df0-5211-4e0a-88bf-4c3bc2ec172d",
   "metadata": {},
   "outputs": [
    {
     "name": "stdout",
     "output_type": "stream",
     "text": [
      "stringconcatenation\n"
     ]
    }
   ],
   "source": [
    "a = \"string\"\n",
    "b = \"concatenation\"\n",
    "print(a+b)"
   ]
  },
  {
   "cell_type": "code",
   "execution_count": 17,
   "id": "c83b7a7f-ccb9-4a0b-af1b-cc154e072a59",
   "metadata": {},
   "outputs": [
    {
     "name": "stdout",
     "output_type": "stream",
     "text": [
      "string concatenation\n"
     ]
    }
   ],
   "source": [
    "a = \"string\"\n",
    "b = \" concatenation\"\n",
    "print(a+b)"
   ]
  },
  {
   "cell_type": "markdown",
   "id": "5ae9da89-a7b0-44ae-90b4-3505bd2946c4",
   "metadata": {},
   "source": [
    "### SLICING :\n",
    "        slicing operation is used to access the sub string.\n",
    "        \n",
    "        it is a way to get the parts of the string using start,end,step values.\n",
    "\n",
    "        especially used to text manipulation and data parsing.\n",
    "\n",
    "            start - starting index\n",
    "\n",
    "            end - stopping index\n",
    "\n",
    "            step - interval between elements(default is 1)\n",
    "\n",
    "        result of slicing is always sting(subset of characters from the original string\n",
    "\n",
    "##### NOTE :\n",
    "        First character has index 0\n",
    "        end index is 5 means it consider upto 4 only(5 not included)n-1\n",
    "#### Example "
   ]
  },
  {
   "cell_type": "code",
   "execution_count": 10,
   "id": "98ead56c-6f45-40c7-8251-68e781bf0548",
   "metadata": {},
   "outputs": [
    {
     "name": "stdout",
     "output_type": "stream",
     "text": [
      "on Le\n"
     ]
    }
   ],
   "source": [
    "a = \"Python Learning\"\n",
    "print(a[4:9])"
   ]
  },
  {
   "cell_type": "code",
   "execution_count": 9,
   "id": "87618e04-c3ac-47cc-87b9-a471c76d6ad1",
   "metadata": {},
   "outputs": [
    {
     "name": "stdout",
     "output_type": "stream",
     "text": [
      "Pavithra \n"
     ]
    }
   ],
   "source": [
    "# Slicing from the start - leaving out the start index\n",
    "x = \"Pavithra MCA\"\n",
    "print(x[:9])"
   ]
  },
  {
   "cell_type": "code",
   "execution_count": 8,
   "id": "f0db2d02-c003-4a0c-b501-46ab51e5fced",
   "metadata": {},
   "outputs": [
    {
     "name": "stdout",
     "output_type": "stream",
     "text": [
      "Nadu\n"
     ]
    }
   ],
   "source": [
    "#Slicing to the end - leaving out the end index\n",
    "y = \"Tamil Nadu\"\n",
    "print(y[6:])"
   ]
  },
  {
   "cell_type": "markdown",
   "id": "a2301ee8-2702-4db5-a618-e236e5c938ae",
   "metadata": {},
   "source": [
    "### Getting charcters at specific interval\n",
    "        we can use the step parameter to get values at specific interval"
   ]
  },
  {
   "cell_type": "code",
   "execution_count": 14,
   "id": "0fe36b40-c94c-41df-a37a-c54ef64f4984",
   "metadata": {},
   "outputs": [
    {
     "name": "stdout",
     "output_type": "stream",
     "text": [
      "welcome to learn python programming\n"
     ]
    }
   ],
   "source": [
    "a = \"welcome to learn python programming\"\n",
    "print(a[0:35:1])"
   ]
  },
  {
   "cell_type": "code",
   "execution_count": 15,
   "id": "178be28c-0fed-4e20-b075-9a9a13410c3c",
   "metadata": {},
   "outputs": [
    {
     "name": "stdout",
     "output_type": "stream",
     "text": [
      "wloet er yhnpormig\n"
     ]
    }
   ],
   "source": [
    "a = \"welcome to learn python programming\"\n",
    "print(a[0:35:2])"
   ]
  },
  {
   "cell_type": "code",
   "execution_count": 26,
   "id": "e655e6f4-de0d-45e7-b849-346fa816c62a",
   "metadata": {},
   "outputs": [
    {
     "ename": "ValueError",
     "evalue": "slice step cannot be zero",
     "output_type": "error",
     "traceback": [
      "\u001b[1;31m---------------------------------------------------------------------------\u001b[0m",
      "\u001b[1;31mValueError\u001b[0m                                Traceback (most recent call last)",
      "Cell \u001b[1;32mIn[26], line 3\u001b[0m\n\u001b[0;32m      1\u001b[0m \u001b[38;5;66;03m#step value cannot be zero\u001b[39;00m\n\u001b[0;32m      2\u001b[0m a \u001b[38;5;241m=\u001b[39m \u001b[38;5;124m\"\u001b[39m\u001b[38;5;124mwelcome to learn python programming\u001b[39m\u001b[38;5;124m\"\u001b[39m\n\u001b[1;32m----> 3\u001b[0m \u001b[38;5;28mprint\u001b[39m(a[\u001b[38;5;241m0\u001b[39m:\u001b[38;5;241m35\u001b[39m:\u001b[38;5;241m0\u001b[39m])\n",
      "\u001b[1;31mValueError\u001b[0m: slice step cannot be zero"
     ]
    }
   ],
   "source": [
    "#step value cannot be zero\n",
    "a = \"welcome to learn python programming\"\n",
    "print(a[0:35:0])"
   ]
  },
  {
   "cell_type": "markdown",
   "id": "608844fd-6185-4811-80f1-91b906b1e875",
   "metadata": {},
   "source": [
    "### Retrieve all characters\n",
    "        use slicing without parameters"
   ]
  },
  {
   "cell_type": "code",
   "execution_count": 4,
   "id": "20fbd682-60f6-471f-9958-35f82588c732",
   "metadata": {},
   "outputs": [
    {
     "name": "stdout",
     "output_type": "stream",
     "text": [
      "Slicing Operation\n",
      "Slicing Operation\n"
     ]
    }
   ],
   "source": [
    "a = \"Slicing Operation\"\n",
    "print(a[:])\n",
    "print(a[::])"
   ]
  },
  {
   "cell_type": "markdown",
   "id": "d1c51eda-c37a-4677-ac15-3e58d6fe6e30",
   "metadata": {},
   "source": [
    "### Negative Indexing\n",
    "        it can be used to access the elements from the end of the string\n",
    "\n",
    "        last element has index -1 and second last element has -2 and so on"
   ]
  },
  {
   "cell_type": "code",
   "execution_count": 16,
   "id": "d99df5e7-ac6a-42b0-a96e-8e806e8e993c",
   "metadata": {},
   "outputs": [
    {
     "name": "stdout",
     "output_type": "stream",
     "text": [
      "vwxyz\n"
     ]
    }
   ],
   "source": [
    "x = \"abcdefghijklmnopqrstuvwxyz\"\n",
    "print(x[-5:])"
   ]
  },
  {
   "cell_type": "code",
   "execution_count": 17,
   "id": "3c463740-4f79-4907-8f16-97c2b8f55658",
   "metadata": {},
   "outputs": [
    {
     "name": "stdout",
     "output_type": "stream",
     "text": [
      "abcdefghijklmnopqrstu\n"
     ]
    }
   ],
   "source": [
    "x = \"abcdefghijklmnopqrstuvwxyz\"\n",
    "print(x[:-5])"
   ]
  },
  {
   "cell_type": "code",
   "execution_count": 18,
   "id": "c2f06c2b-876b-4f50-81f5-44c21795ae30",
   "metadata": {},
   "outputs": [
    {
     "name": "stdout",
     "output_type": "stream",
     "text": [
      "ghijklmnopqrst\n"
     ]
    }
   ],
   "source": [
    "x = \"abcdefghijklmnopqrstuvwxyz\"\n",
    "print(x[-20:-6])"
   ]
  },
  {
   "cell_type": "code",
   "execution_count": 19,
   "id": "242dfffc-aca0-4e0f-8a36-faaf53b1be22",
   "metadata": {},
   "outputs": [
    {
     "name": "stdout",
     "output_type": "stream",
     "text": [
      "gkos\n"
     ]
    }
   ],
   "source": [
    "x = \"abcdefghijklmnopqrstuvwxyz\"\n",
    "print(x[-20:-6:4])"
   ]
  },
  {
   "cell_type": "markdown",
   "id": "7324c822-d5d1-4f55-9361-1bbfe1ac0c7b",
   "metadata": {},
   "source": [
    "### Reversing a string\n",
    "        to reverse a string use a negative step value of -1, which reverses the end of the string to begining"
   ]
  },
  {
   "cell_type": "code",
   "execution_count": 20,
   "id": "b8af231d-670a-48f5-a3f6-541d5c272a4d",
   "metadata": {},
   "outputs": [
    {
     "name": "stdout",
     "output_type": "stream",
     "text": [
      "N arhtivaP\n"
     ]
    }
   ],
   "source": [
    "a = \"Pavithra N\"\n",
    "print(a[::-1])"
   ]
  },
  {
   "cell_type": "code",
   "execution_count": 21,
   "id": "b25e7a27-9592-4dc5-bae5-d28a9028740c",
   "metadata": {},
   "outputs": [
    {
     "name": "stdout",
     "output_type": "stream",
     "text": [
      "manavidniT oT emocleW\n"
     ]
    }
   ],
   "source": [
    "b = \"Welcome To Tindivanam\"\n",
    "print(b[::-1])"
   ]
  },
  {
   "cell_type": "markdown",
   "id": "d88b3c4b-2636-4823-bdc6-e93c7df9298b",
   "metadata": {},
   "source": [
    "### ESCAPE CHARACTER :\n",
    "        escape character can be used to insert the illegal character in a string\n",
    "\n",
    "        escape character is a backslash(\\) followed by the character we need to insert\n",
    "#### Example\n",
    "        double quotes inside a string surrounded by double quotes is illegal, but we can solve this problem using escape character(\\\")"
   ]
  },
  {
   "cell_type": "code",
   "execution_count": 32,
   "id": "3c299b95-ff80-42c2-841a-8d327ccdbeba",
   "metadata": {},
   "outputs": [
    {
     "name": "stdout",
     "output_type": "stream",
     "text": [
      "Welcome to learn \"Python\" programming\n"
     ]
    }
   ],
   "source": [
    "a = \"Welcome to learn \\\"Python\\\" programming\"\n",
    "print(a)"
   ]
  },
  {
   "cell_type": "markdown",
   "id": "d4f20dda-b895-4299-8274-86053b424b13",
   "metadata": {},
   "source": [
    "### FORMATTING A STRING :\n",
    "#### String Format\n",
    "        As we learned in python we cannot combine string and number.\n",
    "\n",
    "        But we can combine string and number by using F-String or format() method.\n",
    "#### F-String\n",
    "        It was introduced in python 3.6 and now it is the preferred way to formatting the string.\n",
    "\n",
    "        To specify string as a f-string, add f in front of the string literal and add {} placeholder for variables and functions.\n",
    "##### Example"
   ]
  },
  {
   "cell_type": "code",
   "execution_count": 34,
   "id": "d2107cb0-66ab-4c36-a4fc-77ee8181f550",
   "metadata": {},
   "outputs": [
    {
     "name": "stdout",
     "output_type": "stream",
     "text": [
      "My age is 20\n"
     ]
    }
   ],
   "source": [
    "age = 20\n",
    "x = f\"My age is {age}\"\n",
    "print(x)"
   ]
  },
  {
   "cell_type": "markdown",
   "id": "7b67dc45-bcfc-468e-94fe-db41c04e2434",
   "metadata": {},
   "source": [
    "#### Placehoders\n",
    "        placeholders can contain variables, operations, functions and modifiers(format the values)\n",
    "\n",
    "        modifier is included by adding the semicolon(:) followed by formatting type like (.2f) which means fixed point number with two decimal\n",
    "##### Examples"
   ]
  },
  {
   "cell_type": "code",
   "execution_count": 35,
   "id": "12d9ace2-d410-4883-b831-50c2178ea1f4",
   "metadata": {},
   "outputs": [
    {
     "name": "stdout",
     "output_type": "stream",
     "text": [
      "The price of vessel is 500.00\n"
     ]
    }
   ],
   "source": [
    "price = 500\n",
    "a = f\"The price of vessel is {price:.2f}\"\n",
    "print(a)"
   ]
  },
  {
   "cell_type": "code",
   "execution_count": 36,
   "id": "56feaa1a-560e-4d88-9d34-f8db732494b9",
   "metadata": {},
   "outputs": [
    {
     "name": "stdout",
     "output_type": "stream",
     "text": [
      "The price is 300 dollars\n"
     ]
    }
   ],
   "source": [
    "#math operation\n",
    "x = f\"The price is {30*10} dollars\"\n",
    "print(x)"
   ]
  }
 ],
 "metadata": {
  "kernelspec": {
   "display_name": "Python 3 (ipykernel)",
   "language": "python",
   "name": "python3"
  },
  "language_info": {
   "codemirror_mode": {
    "name": "ipython",
    "version": 3
   },
   "file_extension": ".py",
   "mimetype": "text/x-python",
   "name": "python",
   "nbconvert_exporter": "python",
   "pygments_lexer": "ipython3",
   "version": "3.12.7"
  }
 },
 "nbformat": 4,
 "nbformat_minor": 5
}
