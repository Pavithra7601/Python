{
 "cells": [
  {
   "cell_type": "markdown",
   "id": "77d90168-7f66-41ae-93ef-a49222214b14",
   "metadata": {},
   "source": [
    "## VARIABLES :\n",
    "### Variables can be used to store the data values, containers.\n",
    "### It is created when we assign a value to it."
   ]
  },
  {
   "cell_type": "code",
   "execution_count": 1,
   "id": "7c08715e-22b6-4673-a251-4a1294b540f9",
   "metadata": {},
   "outputs": [
    {
     "name": "stdout",
     "output_type": "stream",
     "text": [
      "5\n"
     ]
    }
   ],
   "source": [
    "x = 5\n",
    "print(x)"
   ]
  },
  {
   "cell_type": "code",
   "execution_count": 3,
   "id": "fb9df6e0-8cc3-4010-9e3b-d5854af64d8d",
   "metadata": {},
   "outputs": [
    {
     "name": "stdout",
     "output_type": "stream",
     "text": [
      "3.5\n"
     ]
    }
   ],
   "source": [
    "y = 3.5\n",
    "print(y)"
   ]
  },
  {
   "cell_type": "code",
   "execution_count": 4,
   "id": "e59abfac-0070-479d-956b-17b8217f4efa",
   "metadata": {},
   "outputs": [
    {
     "name": "stdout",
     "output_type": "stream",
     "text": [
      "Pavithra MCA\n"
     ]
    }
   ],
   "source": [
    "# we can use single or double quotes to specify string\n",
    "a = \"Pavithra\"\n",
    "b = \"MCA\"\n",
    "print(a,b)"
   ]
  },
  {
   "cell_type": "markdown",
   "id": "1e0201da-724b-4592-aa63-44947673408d",
   "metadata": {},
   "source": [
    "### We can also able to change the value after it has been set"
   ]
  },
  {
   "cell_type": "code",
   "execution_count": 7,
   "id": "669ac256-c790-448d-9e5b-142dbec66919",
   "metadata": {},
   "outputs": [
    {
     "name": "stdout",
     "output_type": "stream",
     "text": [
      "Python Programming\n"
     ]
    }
   ],
   "source": [
    "a = \"Java Programming\"\n",
    "a = \"Python Programming\"\n",
    "print(a)"
   ]
  },
  {
   "cell_type": "markdown",
   "id": "160a8db5-90ac-41ca-a844-17f21b1b30de",
   "metadata": {},
   "source": [
    "### Variables do not need to declared with any particular type. If we want to specify a type we can use the casting"
   ]
  },
  {
   "cell_type": "code",
   "execution_count": 5,
   "id": "f777134e-422d-423e-befe-84e003e7e46d",
   "metadata": {},
   "outputs": [
    {
     "name": "stdout",
     "output_type": "stream",
     "text": [
      "3\n",
      "3.0\n",
      "3\n"
     ]
    }
   ],
   "source": [
    "a = int(3)\n",
    "b = float(3)\n",
    "c = str(3)\n",
    "print(a)\n",
    "print(b)\n",
    "print(c)"
   ]
  },
  {
   "cell_type": "markdown",
   "id": "fdab2699-1d09-481a-9c39-407c3b773ed3",
   "metadata": {},
   "source": [
    "### We can get the datatype of a variable using the type() function"
   ]
  },
  {
   "cell_type": "markdown",
   "id": "71fb38f7-fc2a-4dd7-93e0-ec055b5b40dc",
   "metadata": {},
   "source": [
    "a = int(3)\n",
    "b = float(3)\n",
    "c = str(3)\n",
    "print(type(a))\n",
    "print(type(b))\n",
    "print(type(c))"
   ]
  },
  {
   "cell_type": "markdown",
   "id": "1ffe9e87-8fd4-4c82-8d5c-b104d9764c40",
   "metadata": {
    "jp-MarkdownHeadingCollapsed": true
   },
   "source": [
    "## VARIABLE NAMES :"
   ]
  },
  {
   "cell_type": "markdown",
   "id": "dbf2f3fa-4ced-4287-b5c7-6dadc0209827",
   "metadata": {},
   "source": [
    "## Multi Words Variable Names :\n",
    "### i)Camel Case :\n",
    "### Except the first word, each word starts with Capital letter"
   ]
  },
  {
   "cell_type": "code",
   "execution_count": 1,
   "id": "6538cf09-4702-4cc1-a728-83abfc3f809a",
   "metadata": {},
   "outputs": [
    {
     "name": "stdout",
     "output_type": "stream",
     "text": [
      "Pavithra\n"
     ]
    }
   ],
   "source": [
    "myVariableName = \"Pavithra\"\n",
    "print(myVariableName)"
   ]
  },
  {
   "cell_type": "markdown",
   "id": "059336c0-c6f0-444f-9d81-f14c80e0579e",
   "metadata": {},
   "source": [
    "### ii)Pascal case :\n",
    "### All the words starts with capital letter"
   ]
  },
  {
   "cell_type": "code",
   "execution_count": 2,
   "id": "9b772d89-31aa-46f8-b6f9-79f6bb728523",
   "metadata": {},
   "outputs": [
    {
     "name": "stdout",
     "output_type": "stream",
     "text": [
      "MCA\n"
     ]
    }
   ],
   "source": [
    "MyVariableName = \"MCA\"\n",
    "print(MyVariableName)"
   ]
  },
  {
   "cell_type": "markdown",
   "id": "d8b46050-3d58-4d47-a446-20e35387cb12",
   "metadata": {},
   "source": [
    "### iii)Snake Case :\n",
    "### All words are sepserated by an underscore "
   ]
  },
  {
   "cell_type": "code",
   "execution_count": 5,
   "id": "2a2c978b-fa3a-40fb-ab94-85aa8d5f3f7f",
   "metadata": {},
   "outputs": [
    {
     "name": "stdout",
     "output_type": "stream",
     "text": [
      "Pallippakkam\n"
     ]
    }
   ],
   "source": [
    "my_Variable_name = \"Pallippakkam\"\n",
    "print(my_Variable_name)"
   ]
  },
  {
   "cell_type": "markdown",
   "id": "52086b80-7ec5-49da-984b-d76accdc80ee",
   "metadata": {},
   "source": [
    "## ASSIGN MULTIPLE VARIABLES :\n",
    "### i)Many values to multiple variables :"
   ]
  },
  {
   "cell_type": "code",
   "execution_count": 6,
   "id": "fcfc07d9-ebf7-44ab-9e92-50b792ed3f53",
   "metadata": {},
   "outputs": [
    {
     "name": "stdout",
     "output_type": "stream",
     "text": [
      "Apple\n",
      "Orange\n",
      "Guava\n"
     ]
    }
   ],
   "source": [
    "x,y,z = \"Apple\",\"Orange\",\"Guava\"\n",
    "print(x)\n",
    "print(y)\n",
    "print(z)"
   ]
  },
  {
   "cell_type": "markdown",
   "id": "65e78401-d67b-4d0e-b407-0da545c222da",
   "metadata": {},
   "source": [
    "### ii)One value to multiple variables :"
   ]
  },
  {
   "cell_type": "code",
   "execution_count": 9,
   "id": "d6f54351-1d4e-4566-9c37-edd86a5de29d",
   "metadata": {},
   "outputs": [
    {
     "name": "stdout",
     "output_type": "stream",
     "text": [
      "Cat\n",
      "Cat\n",
      "Cat\n"
     ]
    }
   ],
   "source": [
    "x = y = z = \"Cat\"\n",
    "print(x)\n",
    "print(y)\n",
    "print(z)"
   ]
  },
  {
   "cell_type": "markdown",
   "id": "2a44fd63-a488-4c17-bb33-31f2cd3240c6",
   "metadata": {},
   "source": [
    "## Unpack a Collection\n",
    "### If we have a collection of values in a list, tuple,etc. we can able to extract the values into variables."
   ]
  },
  {
   "cell_type": "code",
   "execution_count": 13,
   "id": "515fcaf3-446c-43c4-b7ed-27f955f91ae6",
   "metadata": {},
   "outputs": [
    {
     "name": "stdout",
     "output_type": "stream",
     "text": [
      "Python\n",
      "Java\n",
      "C++\n",
      "Asp.Net\n"
     ]
    }
   ],
   "source": [
    "# Unpacking a List : \n",
    "Languages = [\"Python\",\"Java\",\"C++\",\"Asp.Net\"]\n",
    "a,b,c,d = Languages\n",
    "print(a)\n",
    "print(b)\n",
    "print(c)\n",
    "print(d)"
   ]
  },
  {
   "cell_type": "code",
   "execution_count": 11,
   "id": "e396f189-f15a-432a-acf8-317dc6e47527",
   "metadata": {},
   "outputs": [
    {
     "name": "stdout",
     "output_type": "stream",
     "text": [
      "Python\n",
      "Java\n",
      "C++\n",
      "Asp.Net\n"
     ]
    }
   ],
   "source": [
    "#Unpacking a Tuple :\n",
    "Languages = (\"Python\",\"Java\",\"C++\",\"Asp.Net\")\n",
    "a,b,c,d = Languages\n",
    "print(a)\n",
    "print(b)\n",
    "print(c)\n",
    "print(d)"
   ]
  },
  {
   "cell_type": "markdown",
   "id": "f4174ad4-1f8d-420c-8fb7-e8f7efa650eb",
   "metadata": {},
   "source": [
    "## OUTPUT VARIABLE ( print() ):\n",
    "### print() function is used to output variable"
   ]
  },
  {
   "cell_type": "code",
   "execution_count": 12,
   "id": "35120c4b-ac4a-47f0-ab39-a799edde4082",
   "metadata": {},
   "outputs": [
    {
     "name": "stdout",
     "output_type": "stream",
     "text": [
      "Javascript\n"
     ]
    }
   ],
   "source": [
    "i = \"Javascript\"\n",
    "print(i)"
   ]
  },
  {
   "cell_type": "markdown",
   "id": "2916507d-15c5-49b9-9705-c74a6128fdde",
   "metadata": {},
   "source": [
    "### we can use comma to multiple output variables"
   ]
  },
  {
   "cell_type": "code",
   "execution_count": 14,
   "id": "e2287b79-4000-450a-9ef1-51d6d490df10",
   "metadata": {},
   "outputs": [
    {
     "name": "stdout",
     "output_type": "stream",
     "text": [
      "Python Programming Language\n"
     ]
    }
   ],
   "source": [
    "x = \"Python\"\n",
    "y = \"Programming\"\n",
    "z = \"Language\"\n",
    "print(x,y,z)"
   ]
  },
  {
   "cell_type": "code",
   "execution_count": 24,
   "id": "8b060d7b-9e87-46d0-bbb8-73c34131925d",
   "metadata": {},
   "outputs": [
    {
     "name": "stdout",
     "output_type": "stream",
     "text": [
      "Pavithra 7\n"
     ]
    }
   ],
   "source": [
    "#The best way to combine multiple variables is using comma. It can easily combines different datatype variables.\n",
    "a = \"Pavithra\"\n",
    "b = 7\n",
    "print(a,b)"
   ]
  },
  {
   "cell_type": "markdown",
   "id": "ec4dbf52-5efa-4ee4-8c35-1b96b5d3641f",
   "metadata": {},
   "source": [
    "### we can also use + operator to output multiple variables"
   ]
  },
  {
   "cell_type": "code",
   "execution_count": 17,
   "id": "ac183557-3fbc-4f84-b38b-dfd3bd04e55b",
   "metadata": {},
   "outputs": [
    {
     "name": "stdout",
     "output_type": "stream",
     "text": [
      "PythonProgrammingLanguage\n"
     ]
    }
   ],
   "source": [
    "x = \"Python\"\n",
    "y = \"Programming\"\n",
    "z = \"Language\"\n",
    "print(x + y + z)"
   ]
  },
  {
   "cell_type": "code",
   "execution_count": 25,
   "id": "0214cf6f-aebe-467e-b933-58799db01914",
   "metadata": {},
   "outputs": [
    {
     "ename": "TypeError",
     "evalue": "can only concatenate str (not \"int\") to str",
     "output_type": "error",
     "traceback": [
      "\u001b[1;31m---------------------------------------------------------------------------\u001b[0m",
      "\u001b[1;31mTypeError\u001b[0m                                 Traceback (most recent call last)",
      "Cell \u001b[1;32mIn[25], line 4\u001b[0m\n\u001b[0;32m      2\u001b[0m a \u001b[38;5;241m=\u001b[39m \u001b[38;5;124m\"\u001b[39m\u001b[38;5;124mPavithra\u001b[39m\u001b[38;5;124m\"\u001b[39m\n\u001b[0;32m      3\u001b[0m b \u001b[38;5;241m=\u001b[39m \u001b[38;5;241m7\u001b[39m\n\u001b[1;32m----> 4\u001b[0m \u001b[38;5;28mprint\u001b[39m(a \u001b[38;5;241m+\u001b[39m b)\n",
      "\u001b[1;31mTypeError\u001b[0m: can only concatenate str (not \"int\") to str"
     ]
    }
   ],
   "source": [
    "# Using + operator we cannot combine the String and a number. It gives an error.\n",
    "a = \"Pavithra\"\n",
    "b = 7\n",
    "print(a + b)"
   ]
  },
  {
   "cell_type": "code",
   "execution_count": null,
   "id": "0caea5c7-f628-44cf-a975-0423795c948b",
   "metadata": {},
   "outputs": [],
   "source": []
  }
 ],
 "metadata": {
  "kernelspec": {
   "display_name": "Python 3 (ipykernel)",
   "language": "python",
   "name": "python3"
  },
  "language_info": {
   "codemirror_mode": {
    "name": "ipython",
    "version": 3
   },
   "file_extension": ".py",
   "mimetype": "text/x-python",
   "name": "python",
   "nbconvert_exporter": "python",
   "pygments_lexer": "ipython3",
   "version": "3.12.7"
  }
 },
 "nbformat": 4,
 "nbformat_minor": 5
}
